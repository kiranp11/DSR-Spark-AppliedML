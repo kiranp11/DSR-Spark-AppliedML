{
 "cells": [
  {
   "cell_type": "code",
   "execution_count": 1,
   "metadata": {},
   "outputs": [],
   "source": [
    "#http://nlp.johnsnowlabs.com/components.html"
   ]
  },
  {
   "cell_type": "code",
   "execution_count": 2,
   "metadata": {},
   "outputs": [],
   "source": [
    "from pyspark.sql import SparkSession\n",
    "session = SparkSession.Builder().getOrCreate()"
   ]
  },
  {
   "cell_type": "code",
   "execution_count": 3,
   "metadata": {},
   "outputs": [
    {
     "data": {
      "text/plain": [
       "JavaModel_49fc83ee7a7b20a2cc2b"
      ]
     },
     "execution_count": 3,
     "metadata": {},
     "output_type": "execute_result"
    }
   ],
   "source": [
    "from sparknlp.pretrained.pipeline.en import BasicPipeline, AdvancedPipeline\n",
    "#Just get the pipeline\n",
    "AdvancedPipeline().pretrained()"
   ]
  },
  {
   "cell_type": "code",
   "execution_count": 4,
   "metadata": {},
   "outputs": [
    {
     "data": {
      "text/plain": [
       "[{'stem': ['mari', 'had', 'a', 'littl', 'lamb'],\n",
       "  'lemma': ['Mary', 'have', 'a', 'little', 'lamb'],\n",
       "  'document': ['Mary had a little lamb.'],\n",
       "  'normal': ['Mary', 'had', 'a', 'little', 'lamb'],\n",
       "  'spell': ['Mary', 'had', 'a', 'little', 'lamb'],\n",
       "  'pos': ['NNP', 'VBD', 'DT', 'JJ', 'NN'],\n",
       "  'token': ['Mary', 'had', 'a', 'little', 'lamb', '.'],\n",
       "  'ner': ['I-PER', 'O', 'O', 'O', 'O']},\n",
       " {'stem': ['old', 'mcdonald', 'had', 'a', 'farm'],\n",
       "  'lemma': ['Old', 'McDonald', 'have', 'a', 'farm'],\n",
       "  'document': ['Old McDonald had a farm.'],\n",
       "  'normal': ['Old', 'McDonald', 'had', 'a', 'farm'],\n",
       "  'spell': ['Old', 'McDonald', 'had', 'a', 'farm'],\n",
       "  'pos': ['NNP', 'NNP', 'VBD', 'DT', 'NN'],\n",
       "  'token': ['Old', 'McDonald', 'had', 'a', 'farm', '.'],\n",
       "  'ner': ['I-PER', 'I-PER', 'O', 'O', 'O']},\n",
       " {'stem': ['have', 'america', 'great', 'again'],\n",
       "  'lemma': ['Make', 'America', 'great', 'again'],\n",
       "  'document': ['Make America great again!'],\n",
       "  'normal': ['Make', 'America', 'great', 'again'],\n",
       "  'spell': ['have', 'America', 'great', 'again'],\n",
       "  'pos': ['VBP', 'NNP', 'JJ', 'RB'],\n",
       "  'token': ['Make', 'America', 'great', 'again', '!'],\n",
       "  'ner': ['O', 'I-LOC', 'O', 'O']},\n",
       " {'stem': ['i', 'did', 'nt', 'do', 'it'],\n",
       "  'lemma': ['I', 'do', 'nt', 'do', 'it'],\n",
       "  'document': [\"I didn't do it!\"],\n",
       "  'normal': ['I', 'did', 'nt', 'do', 'it'],\n",
       "  'spell': ['I', 'did', 'nt', 'do', 'it'],\n",
       "  'pos': ['PRP', 'VBD', 'RB', 'VBP', 'PRP'],\n",
       "  'token': ['I', 'did', \"n't\", 'do', 'it', '!'],\n",
       "  'ner': ['O', 'O', 'O', 'O', 'O']}]"
      ]
     },
     "execution_count": 4,
     "metadata": {},
     "output_type": "execute_result"
    }
   ],
   "source": [
    "AdvancedPipeline().annotate([\"Mary had a little lamb.\", \"Old McDonald had a farm.\", \"Make America great again!\", \"I didn't do it!\"])"
   ]
  },
  {
   "cell_type": "code",
   "execution_count": 5,
   "metadata": {},
   "outputs": [
    {
     "name": "stdout",
     "output_type": "stream",
     "text": [
      "--2018-07-21 15:09:33--  https://ia801405.us.archive.org/18/items/alicesadventures19033gut/19033.txt\n",
      "Resolving ia801405.us.archive.org (ia801405.us.archive.org)... 207.241.228.145\n",
      "Connecting to ia801405.us.archive.org (ia801405.us.archive.org)|207.241.228.145|:443... connected.\n",
      "HTTP request sent, awaiting response... 200 OK\n",
      "Length: 74726 (73K) [text/plain]\n",
      "Saving to: ‘19033.txt’\n",
      "\n",
      "19033.txt           100%[===================>]  72.97K   428KB/s    in 0.2s    \n",
      "\n",
      "2018-07-21 15:09:34 (428 KB/s) - ‘19033.txt’ saved [74726/74726]\n",
      "\n"
     ]
    }
   ],
   "source": [
    "# !wget https://ia801405.us.archive.org/18/items/alicesadventures19033gut/19033.txt"
   ]
  },
  {
   "cell_type": "code",
   "execution_count": 6,
   "metadata": {},
   "outputs": [],
   "source": [
    "alice = session.read.csv('19033.txt', sep='\\n')"
   ]
  },
  {
   "cell_type": "code",
   "execution_count": 7,
   "metadata": {},
   "outputs": [],
   "source": [
    "alice_annotated = AdvancedPipeline().annotate(alice, '_c0')"
   ]
  },
  {
   "cell_type": "code",
   "execution_count": 8,
   "metadata": {},
   "outputs": [],
   "source": [
    "alice_df = alice_annotated.limit(50).toPandas()"
   ]
  },
  {
   "cell_type": "code",
   "execution_count": 9,
   "metadata": {},
   "outputs": [],
   "source": [
    "line = alice_df.iloc[25]"
   ]
  },
  {
   "cell_type": "code",
   "execution_count": 10,
   "metadata": {},
   "outputs": [
    {
     "data": {
      "text/plain": [
       "'Alice was beginning to get very tired of sitting by her sister on the'"
      ]
     },
     "execution_count": 10,
     "metadata": {},
     "output_type": "execute_result"
    }
   ],
   "source": [
    "line.text"
   ]
  },
  {
   "cell_type": "code",
   "execution_count": 11,
   "metadata": {},
   "outputs": [
    {
     "data": {
      "text/plain": [
       "[Row(annotatorType='pos', begin=0, end=4, result='NNP', metadata={'word': 'Alice'}),\n",
       " Row(annotatorType='pos', begin=6, end=8, result='VBD', metadata={'word': 'was'}),\n",
       " Row(annotatorType='pos', begin=10, end=18, result='VBG', metadata={'word': 'beginning'}),\n",
       " Row(annotatorType='pos', begin=20, end=21, result='TO', metadata={'word': 'to'}),\n",
       " Row(annotatorType='pos', begin=23, end=25, result='VB', metadata={'word': 'get'}),\n",
       " Row(annotatorType='pos', begin=27, end=30, result='RB', metadata={'word': 'very'}),\n",
       " Row(annotatorType='pos', begin=32, end=36, result='JJ', metadata={'word': 'tired'}),\n",
       " Row(annotatorType='pos', begin=38, end=39, result='IN', metadata={'word': 'of'}),\n",
       " Row(annotatorType='pos', begin=41, end=47, result='VBG', metadata={'word': 'sitting'}),\n",
       " Row(annotatorType='pos', begin=49, end=50, result='IN', metadata={'word': 'by'}),\n",
       " Row(annotatorType='pos', begin=52, end=54, result='PRP$', metadata={'word': 'her'}),\n",
       " Row(annotatorType='pos', begin=56, end=61, result='NN', metadata={'word': 'sister'}),\n",
       " Row(annotatorType='pos', begin=63, end=64, result='IN', metadata={'word': 'on'}),\n",
       " Row(annotatorType='pos', begin=66, end=68, result='DT', metadata={'word': 'the'})]"
      ]
     },
     "execution_count": 11,
     "metadata": {},
     "output_type": "execute_result"
    }
   ],
   "source": [
    "line.pos"
   ]
  },
  {
   "cell_type": "code",
   "execution_count": 12,
   "metadata": {},
   "outputs": [
    {
     "data": {
      "text/plain": [
       "[Row(annotatorType='named_entity', begin=0, end=4, result='I-PER', metadata={'word': 'Alice'}),\n",
       " Row(annotatorType='named_entity', begin=6, end=8, result='O', metadata={'word': 'was'}),\n",
       " Row(annotatorType='named_entity', begin=10, end=18, result='O', metadata={'word': 'beginning'}),\n",
       " Row(annotatorType='named_entity', begin=20, end=21, result='O', metadata={'word': 'to'}),\n",
       " Row(annotatorType='named_entity', begin=23, end=25, result='O', metadata={'word': 'get'}),\n",
       " Row(annotatorType='named_entity', begin=27, end=30, result='O', metadata={'word': 'very'}),\n",
       " Row(annotatorType='named_entity', begin=32, end=36, result='O', metadata={'word': 'tired'}),\n",
       " Row(annotatorType='named_entity', begin=38, end=39, result='O', metadata={'word': 'of'}),\n",
       " Row(annotatorType='named_entity', begin=41, end=47, result='O', metadata={'word': 'sitting'}),\n",
       " Row(annotatorType='named_entity', begin=49, end=50, result='O', metadata={'word': 'by'}),\n",
       " Row(annotatorType='named_entity', begin=52, end=54, result='O', metadata={'word': 'her'}),\n",
       " Row(annotatorType='named_entity', begin=56, end=61, result='O', metadata={'word': 'sister'}),\n",
       " Row(annotatorType='named_entity', begin=63, end=64, result='O', metadata={'word': 'on'}),\n",
       " Row(annotatorType='named_entity', begin=66, end=68, result='O', metadata={'word': 'the'})]"
      ]
     },
     "execution_count": 12,
     "metadata": {},
     "output_type": "execute_result"
    }
   ],
   "source": [
    "line.ner"
   ]
  },
  {
   "cell_type": "code",
   "execution_count": null,
   "metadata": {},
   "outputs": [],
   "source": []
  }
 ],
 "metadata": {
  "kernelspec": {
   "display_name": "Python 3",
   "language": "python",
   "name": "python3"
  },
  "language_info": {
   "codemirror_mode": {
    "name": "ipython",
    "version": 3
   },
   "file_extension": ".py",
   "mimetype": "text/x-python",
   "name": "python",
   "nbconvert_exporter": "python",
   "pygments_lexer": "ipython3",
   "version": "3.6.4"
  }
 },
 "nbformat": 4,
 "nbformat_minor": 2
}
