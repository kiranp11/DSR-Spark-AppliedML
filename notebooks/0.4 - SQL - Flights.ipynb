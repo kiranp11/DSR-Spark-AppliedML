{
 "cells": [
  {
   "cell_type": "code",
   "execution_count": 1,
   "metadata": {},
   "outputs": [],
   "source": [
    "import pyspark\n",
    "sc = pyspark.SparkContext('local[*]')"
   ]
  },
  {
   "cell_type": "markdown",
   "metadata": {},
   "source": [
    "# Spark SQLContext"
   ]
  },
  {
   "cell_type": "markdown",
   "metadata": {},
   "source": [
    "## Documentation: https://spark.apache.org/docs/latest/api/python/pyspark.sql.html"
   ]
  },
  {
   "cell_type": "markdown",
   "metadata": {},
   "source": [
    "Initilizing SQLContext"
   ]
  },
  {
   "cell_type": "code",
   "execution_count": 2,
   "metadata": {},
   "outputs": [],
   "source": [
    "!rm -rf metastore_db/\n",
    "from pyspark.sql import SQLContext\n",
    "sqlContext = SQLContext(sc)"
   ]
  },
  {
   "cell_type": "markdown",
   "metadata": {},
   "source": [
    "## Creating user-defined functions"
   ]
  },
  {
   "cell_type": "markdown",
   "metadata": {},
   "source": [
    "To use RDD in SQLContext, RDD lines have to be converted into a Row format"
   ]
  },
  {
   "cell_type": "code",
   "execution_count": 3,
   "metadata": {},
   "outputs": [],
   "source": [
    "import re\n",
    "from pyspark.sql import Row\n",
    "# Read from CSV\n",
    "def load_csv(line):\n",
    "    return re.split(\"\\\"?,\\\"?\", line)\n",
    "        \n",
    "def readInt(x):\n",
    "    try:\n",
    "        return int(x)\n",
    "    except:\n",
    "        return x\n",
    "\n",
    "def parseElement(e):\n",
    "    return Row(year=readInt(e[0]),\n",
    "    month=readInt(e[1]),\n",
    "    day=readInt(e[2]),\n",
    "    dep_time=readInt(e[3]),\n",
    "    dep_delay=readInt(e[4]),\n",
    "    arr_time=readInt(e[5]),\n",
    "    arr_delay=readInt(e[6]),\n",
    "    cancelled=e[7],\n",
    "    carrier=e[8],\n",
    "    tailnum=e[9],\n",
    "    flight=readInt(e[10]),\n",
    "    origin=e[11],\n",
    "    dest=e[12],\n",
    "    air_time=readInt(e[13]),\n",
    "    distance=readInt(e[14]),\n",
    "    hour=readInt(e[15]),\n",
    "    min=readInt(e[16])\n",
    "    )"
   ]
  },
  {
   "cell_type": "code",
   "execution_count": 4,
   "metadata": {},
   "outputs": [
    {
     "name": "stdout",
     "output_type": "stream",
     "text": [
      "--2018-07-19 14:16:55--  https://dsr-data.s3.amazonaws.com/flights/flights14.csv\n",
      "Resolving dsr-data.s3.amazonaws.com (dsr-data.s3.amazonaws.com)... 52.219.72.6\n",
      "Connecting to dsr-data.s3.amazonaws.com (dsr-data.s3.amazonaws.com)|52.219.72.6|:443... connected.\n",
      "HTTP request sent, awaiting response... 200 OK\n",
      "Length: 16150465 (15M) [text/csv]\n",
      "Saving to: ‘flights14.csv.8’\n",
      "\n",
      "flights14.csv.8     100%[===================>]  15.40M  7.52MB/s    in 2.0s    \n",
      "\n",
      "2018-07-19 14:16:58 (7.52 MB/s) - ‘flights14.csv.8’ saved [16150465/16150465]\n",
      "\n"
     ]
    }
   ],
   "source": [
    "!wget https://dsr-data.s3.amazonaws.com/flights/flights14.csv"
   ]
  },
  {
   "cell_type": "code",
   "execution_count": 5,
   "metadata": {},
   "outputs": [],
   "source": [
    "flights = sc.textFile(\"flights14.csv\").map(load_csv).filter(lambda e: not e[0] == \"year\").map(parseElement).cache()"
   ]
  },
  {
   "cell_type": "markdown",
   "metadata": {},
   "source": [
    "Now the schema and the RDD have to be registered with the sqlContext:"
   ]
  },
  {
   "cell_type": "code",
   "execution_count": 6,
   "metadata": {
    "scrolled": false
   },
   "outputs": [],
   "source": [
    "flightsDF = sqlContext.createDataFrame(flights)"
   ]
  },
  {
   "cell_type": "code",
   "execution_count": 7,
   "metadata": {},
   "outputs": [
    {
     "data": {
      "text/plain": [
       "253316"
      ]
     },
     "execution_count": 7,
     "metadata": {},
     "output_type": "execute_result"
    }
   ],
   "source": [
    "flightsDF.count()"
   ]
  },
  {
   "cell_type": "code",
   "execution_count": 8,
   "metadata": {},
   "outputs": [
    {
     "name": "stdout",
     "output_type": "stream",
     "text": [
      "+--------+---------+--------+---------+-------+---+---------+--------+----+--------+------+----+---+-----+------+-------+----+\n",
      "|air_time|arr_delay|arr_time|cancelled|carrier|day|dep_delay|dep_time|dest|distance|flight|hour|min|month|origin|tailnum|year|\n",
      "+--------+---------+--------+---------+-------+---+---------+--------+----+--------+------+----+---+-----+------+-------+----+\n",
      "|     359|       13|    1238|        0|     AA|  1|       14|     914| LAX|    2475|     1|   9| 14|    1|   JFK| N338AA|2014|\n",
      "|     363|       13|    1523|        0|     AA|  1|       -3|    1157| LAX|    2475|     3|  11| 57|    1|   JFK| N335AA|2014|\n",
      "|     351|        9|    2224|        0|     AA|  1|        2|    1902| LAX|    2475|    21|  19|  2|    1|   JFK| N327AA|2014|\n",
      "|     157|      -26|    1014|        0|     AA|  1|       -8|     722| PBI|    1035|    29|   7| 22|    1|   LGA| N3EHAA|2014|\n",
      "|     350|        1|    1706|        0|     AA|  1|        2|    1347| LAX|    2475|   117|  13| 47|    1|   JFK| N319AA|2014|\n",
      "|     339|        0|    2145|        0|     AA|  1|        4|    1824| LAX|    2454|   119|  18| 24|    1|   EWR| N3DEAA|2014|\n",
      "|     338|      -18|      37|        0|     AA|  1|       -2|    2133| LAX|    2475|   185|  21| 33|    1|   JFK| N323AA|2014|\n",
      "|     356|      -14|    1906|        0|     AA|  1|       -3|    1542| LAX|    2475|   133|  15| 42|    1|   JFK| N328AA|2014|\n",
      "|     161|      -17|    1828|        0|     AA|  1|       -1|    1509| MIA|    1089|   145|  15|  9|    1|   JFK| N5FJAA|2014|\n",
      "|     349|      -14|    2206|        0|     AA|  1|       -2|    1848| SEA|    2422|   235|  18| 48|    1|   JFK| N3HYAA|2014|\n",
      "|     161|      -17|    2003|        0|     AA|  1|       -5|    1655| MIA|    1085|   172|  16| 55|    1|   EWR| N5CFAA|2014|\n",
      "|     365|       -5|    2120|        0|     AA|  1|        7|    1752| SFO|    2586|   177|  17| 52|    1|   JFK| N332AA|2014|\n",
      "|      39|        1|    1351|        0|     AA|  1|        3|    1253| BOS|     187|   178|  12| 53|    1|   JFK| N3JWAA|2014|\n",
      "|     345|      133|    2223|        0|     AA|  1|      142|    1907| LAX|    2475|   181|  19|  7|    1|   JFK| N336AA|2014|\n",
      "|      35|      -26|    1819|        0|     AA|  1|       -5|    1720| BOS|     187|   256|  17| 20|    1|   JFK| N3BCAA|2014|\n",
      "|     155|       69|    2024|        0|     AA|  1|       18|    1733| ORD|     740|   199|  17| 33|    1|   JFK| N3HPAA|2014|\n",
      "|     234|       36|    2001|        0|     AA|  1|       25|    1640| IAH|    1417|   211|  16| 40|    1|   JFK| N3HFAA|2014|\n",
      "|     232|        1|    2036|        0|     AA|  1|       -1|    1714| AUS|    1521|   291|  17| 14|    1|   JFK| N3DVAA|2014|\n",
      "|     214|      185|    1910|        0|     AA|  1|      191|    1611| DFW|    1372|   300|  16| 11|    1|   EWR| N471AA|2014|\n",
      "|     142|       -6|     739|        0|     AA|  1|       -7|     553| ORD|     733|   301|   5| 53|    1|   LGA| N3KHAA|2014|\n",
      "+--------+---------+--------+---------+-------+---+---------+--------+----+--------+------+----+---+-----+------+-------+----+\n",
      "only showing top 20 rows\n",
      "\n"
     ]
    }
   ],
   "source": [
    "flightsDF.show()"
   ]
  },
  {
   "cell_type": "code",
   "execution_count": 9,
   "metadata": {},
   "outputs": [],
   "source": [
    "flightsDF.createOrReplaceTempView(\"flight\")"
   ]
  },
  {
   "cell_type": "code",
   "execution_count": 10,
   "metadata": {},
   "outputs": [
    {
     "data": {
      "text/plain": [
       "[Row(air_time=359, arr_delay=13, arr_time=1238, cancelled='0', carrier='AA', day=1, dep_delay=14, dep_time=914, dest='LAX', distance=2475, flight=1, hour=9, min=14, month=1, origin='JFK', tailnum='N338AA', year=2014),\n",
       " Row(air_time=363, arr_delay=13, arr_time=1523, cancelled='0', carrier='AA', day=1, dep_delay=-3, dep_time=1157, dest='LAX', distance=2475, flight=3, hour=11, min=57, month=1, origin='JFK', tailnum='N335AA', year=2014),\n",
       " Row(air_time=351, arr_delay=9, arr_time=2224, cancelled='0', carrier='AA', day=1, dep_delay=2, dep_time=1902, dest='LAX', distance=2475, flight=21, hour=19, min=2, month=1, origin='JFK', tailnum='N327AA', year=2014),\n",
       " Row(air_time=350, arr_delay=1, arr_time=1706, cancelled='0', carrier='AA', day=1, dep_delay=2, dep_time=1347, dest='LAX', distance=2475, flight=117, hour=13, min=47, month=1, origin='JFK', tailnum='N319AA', year=2014),\n",
       " Row(air_time=339, arr_delay=0, arr_time=2145, cancelled='0', carrier='AA', day=1, dep_delay=4, dep_time=1824, dest='LAX', distance=2454, flight=119, hour=18, min=24, month=1, origin='EWR', tailnum='N3DEAA', year=2014)]"
      ]
     },
     "execution_count": 10,
     "metadata": {},
     "output_type": "execute_result"
    }
   ],
   "source": [
    "sqlContext.sql(\"select * from flight where dest = 'LAX'\").take(5)"
   ]
  },
  {
   "cell_type": "code",
   "execution_count": 11,
   "metadata": {},
   "outputs": [
    {
     "data": {
      "text/plain": [
       "2750"
      ]
     },
     "execution_count": 11,
     "metadata": {},
     "output_type": "execute_result"
    }
   ],
   "source": [
    "flightsDF.where(\"origin = 'JFK' AND dest = 'MIA'\").count()"
   ]
  },
  {
   "cell_type": "code",
   "execution_count": 12,
   "metadata": {},
   "outputs": [
    {
     "data": {
      "text/plain": [
       "[Row(air_time=161, arr_delay=-17, arr_time=1828, cancelled='0', carrier='AA', day=1, dep_delay=-1, dep_time=1509, dest='MIA', distance=1089, flight=145, hour=15, min=9, month=1, origin='JFK', tailnum='N5FJAA', year=2014),\n",
       " Row(air_time=166, arr_delay=-8, arr_time=1227, cancelled='0', carrier='AA', day=1, dep_delay=7, dep_time=917, dest='MIA', distance=1089, flight=1085, hour=9, min=17, month=1, origin='JFK', tailnum='N5DWAA', year=2014)]"
      ]
     },
     "execution_count": 12,
     "metadata": {},
     "output_type": "execute_result"
    }
   ],
   "source": [
    "flightsDF.where(\"origin = 'JFK' AND dest = 'MIA'\").limit(2).collect()"
   ]
  },
  {
   "cell_type": "markdown",
   "metadata": {
    "collapsed": true
   },
   "source": [
    "### Count the flights that departed early and arrived late"
   ]
  },
  {
   "cell_type": "markdown",
   "metadata": {},
   "source": [
    "### Find the flightwith the longest arrival delay"
   ]
  },
  {
   "cell_type": "markdown",
   "metadata": {},
   "source": [
    "### Find the top 10 destinations ordered by the number of flights"
   ]
  },
  {
   "cell_type": "markdown",
   "metadata": {},
   "source": [
    "### Find top 10 destinations with the worst avg arrival delay, ignoring flights that arrived early"
   ]
  },
  {
   "cell_type": "markdown",
   "metadata": {},
   "source": [
    "### Take a sample of 1% of the flights and then calculate the average departure delay for that sample"
   ]
  },
  {
   "cell_type": "markdown",
   "metadata": {},
   "source": [
    "### For all flights from JFK during June, show the average departure delay for each destination"
   ]
  },
  {
   "cell_type": "markdown",
   "metadata": {},
   "source": [
    "### For every origin/dest pair, count the number of flights"
   ]
  },
  {
   "cell_type": "code",
   "execution_count": 13,
   "metadata": {},
   "outputs": [
    {
     "data": {
      "text/plain": [
       "30239"
      ]
     },
     "execution_count": 13,
     "metadata": {},
     "output_type": "execute_result"
    }
   ],
   "source": [
    "sqlContext.sql(\"select * from flight where arr_delay > 0 and dep_delay < 0\").count()"
   ]
  },
  {
   "cell_type": "code",
   "execution_count": 14,
   "metadata": {},
   "outputs": [
    {
     "data": {
      "text/plain": [
       "30239"
      ]
     },
     "execution_count": 14,
     "metadata": {},
     "output_type": "execute_result"
    }
   ],
   "source": [
    "flightsDF.where('arr_delay > 0 and dep_delay < 0 ').count()"
   ]
  },
  {
   "cell_type": "code",
   "execution_count": 15,
   "metadata": {},
   "outputs": [
    {
     "data": {
      "text/plain": [
       "[Row(air_time=200, arr_delay=1494, arr_time=1008, cancelled='0', carrier='AA', day=4, dep_delay=1498, dep_time=727, dest='DFW', distance=1372, flight=1381, hour=7, min=27, month=10, origin='EWR', tailnum='N4WJAA', year=2014)]"
      ]
     },
     "execution_count": 15,
     "metadata": {},
     "output_type": "execute_result"
    }
   ],
   "source": [
    "sqlContext.sql(\"select * from flight order by arr_delay desc\").limit(1).take(1)"
   ]
  },
  {
   "cell_type": "code",
   "execution_count": 16,
   "metadata": {},
   "outputs": [
    {
     "name": "stdout",
     "output_type": "stream",
     "text": [
      "+----+--------+\n",
      "|dest|count(1)|\n",
      "+----+--------+\n",
      "| LAX|   14434|\n",
      "| ATL|   12808|\n",
      "| SFO|   11907|\n",
      "| MCO|   11709|\n",
      "| BOS|   11609|\n",
      "| ORD|   11589|\n",
      "| MIA|    9928|\n",
      "| CLT|    9624|\n",
      "| FLL|    9471|\n",
      "| DCA|    6748|\n",
      "+----+--------+\n",
      "only showing top 10 rows\n",
      "\n"
     ]
    }
   ],
   "source": [
    "flightsDF.groupby(['dest'])\\\n",
    ".agg({\"*\": \"COUNT\"})\\\n",
    ".sort(\"count(1)\", ascending=False)\\\n",
    ".show(10)"
   ]
  },
  {
   "cell_type": "code",
   "execution_count": 17,
   "metadata": {},
   "outputs": [
    {
     "name": "stdout",
     "output_type": "stream",
     "text": [
      "+----+-----+\n",
      "|dest|count|\n",
      "+----+-----+\n",
      "| LAX|14434|\n",
      "| ATL|12808|\n",
      "| SFO|11907|\n",
      "| MCO|11709|\n",
      "| BOS|11609|\n",
      "| ORD|11589|\n",
      "| MIA| 9928|\n",
      "| CLT| 9624|\n",
      "| FLL| 9471|\n",
      "| DCA| 6748|\n",
      "+----+-----+\n",
      "only showing top 10 rows\n",
      "\n"
     ]
    }
   ],
   "source": [
    "sqlContext.sql(\"select dest, count(*) as count from flight group by dest order by count desc\").show(10)"
   ]
  },
  {
   "cell_type": "code",
   "execution_count": 18,
   "metadata": {},
   "outputs": [
    {
     "name": "stdout",
     "output_type": "stream",
     "text": [
      "+----+------------------+\n",
      "|dest|    avg(arr_delay)|\n",
      "+----+------------------+\n",
      "| EGE| 80.59016393442623|\n",
      "| AVP|              67.0|\n",
      "| JAC|59.666666666666664|\n",
      "| CAK|57.907042253521126|\n",
      "| TUL| 56.99152542372882|\n",
      "| MSN| 54.80237154150198|\n",
      "| IAD|53.324599708879184|\n",
      "| BGR| 52.73504273504273|\n",
      "| OKC| 52.14503816793893|\n",
      "| TVC| 51.15151515151515|\n",
      "+----+------------------+\n",
      "only showing top 10 rows\n",
      "\n"
     ]
    }
   ],
   "source": [
    "flightsDF\\\n",
    ".filter(flightsDF.arr_delay > 0)\\\n",
    ".groupby(['dest'])\\\n",
    ".agg({\"arr_delay\":\"AVG\"})\\\n",
    ".sort(\"avg(arr_delay)\", ascending=False)\\\n",
    ".show(10)    "
   ]
  },
  {
   "cell_type": "code",
   "execution_count": 19,
   "metadata": {},
   "outputs": [
    {
     "name": "stdout",
     "output_type": "stream",
     "text": [
      "+----+------------------+\n",
      "|dest|         avg_delay|\n",
      "+----+------------------+\n",
      "| EGE| 80.59016393442623|\n",
      "| AVP|              67.0|\n",
      "| JAC|59.666666666666664|\n",
      "| CAK|57.907042253521126|\n",
      "| TUL| 56.99152542372882|\n",
      "| MSN| 54.80237154150198|\n",
      "| IAD|53.324599708879184|\n",
      "| BGR| 52.73504273504273|\n",
      "| OKC| 52.14503816793893|\n",
      "| TVC| 51.15151515151515|\n",
      "+----+------------------+\n",
      "only showing top 10 rows\n",
      "\n"
     ]
    }
   ],
   "source": [
    "sqlContext.sql(\"select dest, mean(arr_delay) as avg_delay from flight where arr_delay >0 group by dest order by avg_delay desc\").show(10)"
   ]
  },
  {
   "cell_type": "code",
   "execution_count": 20,
   "metadata": {},
   "outputs": [
    {
     "name": "stdout",
     "output_type": "stream",
     "text": [
      "+------------------+\n",
      "|    avg(dep_delay)|\n",
      "+------------------+\n",
      "|12.518043400071933|\n",
      "+------------------+\n",
      "\n"
     ]
    }
   ],
   "source": [
    "flightsDF.sample(withReplacement=False,fraction=0.1,seed=12).agg({\"dep_delay\": \"AVG\"}).show()"
   ]
  },
  {
   "cell_type": "code",
   "execution_count": null,
   "metadata": {},
   "outputs": [],
   "source": []
  },
  {
   "cell_type": "code",
   "execution_count": 21,
   "metadata": {},
   "outputs": [
    {
     "name": "stdout",
     "output_type": "stream",
     "text": [
      "+----+-------------------+\n",
      "|dest|     avg(dep_delay)|\n",
      "+----+-------------------+\n",
      "| PSE| 17.133333333333333|\n",
      "| MSY|  10.96629213483146|\n",
      "| BUR| 16.428571428571427|\n",
      "| OAK|  22.75862068965517|\n",
      "| DCA|  5.372781065088757|\n",
      "| ORF| 10.678571428571429|\n",
      "| SAV|  4.267857142857143|\n",
      "| CMH| 11.862068965517242|\n",
      "| HNL|-1.7586206896551724|\n",
      "| SJC| 12.241379310344827|\n",
      "+----+-------------------+\n",
      "only showing top 10 rows\n",
      "\n"
     ]
    }
   ],
   "source": [
    "flightsDF\\\n",
    ".filter(flightsDF.origin == \"JFK\")\\\n",
    ".filter(flightsDF.month == 6)\\\n",
    ".groupby(flightsDF.dest)\\\n",
    ".agg({\"dep_delay\": \"AVG\"})\\\n",
    ".show(10)"
   ]
  },
  {
   "cell_type": "code",
   "execution_count": 22,
   "metadata": {},
   "outputs": [
    {
     "name": "stdout",
     "output_type": "stream",
     "text": [
      "+------+\n",
      "|origin|\n",
      "+------+\n",
      "|   LGA|\n",
      "|   EWR|\n",
      "|   JFK|\n",
      "+------+\n",
      "\n"
     ]
    }
   ],
   "source": [
    "sqlContext.sql(\"select distinct(origin) from flight\").show()"
   ]
  },
  {
   "cell_type": "code",
   "execution_count": 23,
   "metadata": {},
   "outputs": [
    {
     "name": "stdout",
     "output_type": "stream",
     "text": [
      "+----+\n",
      "|dest|\n",
      "+----+\n",
      "| PSE|\n",
      "| MSY|\n",
      "| BUR|\n",
      "| SNA|\n",
      "| GRR|\n",
      "| PVD|\n",
      "| GSO|\n",
      "| MYR|\n",
      "| OAK|\n",
      "| MSN|\n",
      "| DCA|\n",
      "| ORF|\n",
      "| SAV|\n",
      "| CMH|\n",
      "| CAK|\n",
      "| CHO|\n",
      "| IAH|\n",
      "| HNL|\n",
      "| SJC|\n",
      "| CVG|\n",
      "+----+\n",
      "only showing top 20 rows\n",
      "\n"
     ]
    }
   ],
   "source": [
    "sqlContext.sql(\"select distinct(dest) from flight\").show()"
   ]
  },
  {
   "cell_type": "code",
   "execution_count": 24,
   "metadata": {},
   "outputs": [
    {
     "data": {
      "text/plain": [
       "221"
      ]
     },
     "execution_count": 24,
     "metadata": {},
     "output_type": "execute_result"
    }
   ],
   "source": [
    "sqlContext.sql(\"select distinct(origin,dest) from flight\").count()"
   ]
  },
  {
   "cell_type": "code",
   "execution_count": 25,
   "metadata": {},
   "outputs": [
    {
     "name": "stdout",
     "output_type": "stream",
     "text": [
      "+------+----+-----+\n",
      "|origin|dest|count|\n",
      "+------+----+-----+\n",
      "|   JFK| LAX|10208|\n",
      "|   JFK| SFO| 7368|\n",
      "|   LGA| ORD| 7052|\n",
      "|   LGA| ATL| 6925|\n",
      "|   LGA| MIA| 5084|\n",
      "|   EWR| SFO| 4539|\n",
      "|   JFK| MCO| 4467|\n",
      "|   EWR| BOS| 4268|\n",
      "|   EWR| LAX| 4226|\n",
      "|   EWR| ATL| 4182|\n",
      "|   EWR| MCO| 4164|\n",
      "|   JFK| BOS| 4111|\n",
      "|   JFK| SJU| 4027|\n",
      "|   EWR| CLT| 3921|\n",
      "|   LGA| DFW| 3789|\n",
      "|   LGA| DCA| 3753|\n",
      "|   LGA| DTW| 3663|\n",
      "|   LGA| CLT| 3431|\n",
      "|   JFK| LAS| 3355|\n",
      "|   LGA| FLL| 3304|\n",
      "+------+----+-----+\n",
      "only showing top 20 rows\n",
      "\n"
     ]
    }
   ],
   "source": [
    "# For every origin/dest pair, count the number of flights\n",
    "sqlContext.sql(\"select origin, dest, count(*) as count from flight group by origin, dest order by count desc\").show()\n"
   ]
  },
  {
   "cell_type": "code",
   "execution_count": 26,
   "metadata": {},
   "outputs": [],
   "source": [
    "sc.stop()"
   ]
  }
 ],
 "metadata": {
  "anaconda-cloud": {},
  "kernelspec": {
   "display_name": "Python 3",
   "language": "python",
   "name": "python3"
  },
  "language_info": {
   "codemirror_mode": {
    "name": "ipython",
    "version": 3
   },
   "file_extension": ".py",
   "mimetype": "text/x-python",
   "name": "python",
   "nbconvert_exporter": "python",
   "pygments_lexer": "ipython3",
   "version": "3.6.4"
  }
 },
 "nbformat": 4,
 "nbformat_minor": 1
}
