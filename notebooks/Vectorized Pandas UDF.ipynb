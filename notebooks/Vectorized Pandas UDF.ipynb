{
 "cells": [
  {
   "cell_type": "markdown",
   "metadata": {
    "collapsed": true
   },
   "source": [
    "## [Vectorized UDFs](https://databricks.com/blog/2017/10/30/introducing-vectorized-udfs-for-pyspark.html)"
   ]
  },
  {
   "cell_type": "code",
   "execution_count": 4,
   "metadata": {},
   "outputs": [],
   "source": [
    "from pyspark.sql import SparkSession\n",
    "# !rm -rf metastore_db/\n",
    "spark = SparkSession.builder.getOrCreate()"
   ]
  },
  {
   "cell_type": "code",
   "execution_count": 8,
   "metadata": {},
   "outputs": [],
   "source": [
    "from pyspark.sql.types import *\n",
    "from pyspark.sql.functions import col, count, rand, collect_list, explode, struct, count, lit\n",
    "from pyspark.sql.functions import pandas_udf, PandasUDFType"
   ]
  },
  {
   "cell_type": "code",
   "execution_count": 3,
   "metadata": {},
   "outputs": [
    {
     "ename": "NameError",
     "evalue": "name 'SparkSession' is not defined",
     "output_type": "error",
     "traceback": [
      "\u001b[0;31m---------------------------------------------------------------------------\u001b[0m",
      "\u001b[0;31mNameError\u001b[0m                                 Traceback (most recent call last)",
      "\u001b[0;32m<ipython-input-3-409cf9706472>\u001b[0m in \u001b[0;36m<module>\u001b[0;34m()\u001b[0m\n\u001b[0;32m----> 1\u001b[0;31m \u001b[0mspark\u001b[0m \u001b[0;34m=\u001b[0m \u001b[0mSparkSession\u001b[0m\u001b[0;34m.\u001b[0m\u001b[0mbuilder\u001b[0m\u001b[0;34m.\u001b[0m\u001b[0mgetOrCreate\u001b[0m\u001b[0;34m(\u001b[0m\u001b[0;34m)\u001b[0m\u001b[0;34m\u001b[0m\u001b[0m\n\u001b[0m",
      "\u001b[0;31mNameError\u001b[0m: name 'SparkSession' is not defined"
     ]
    }
   ],
   "source": []
  },
  {
   "cell_type": "markdown",
   "metadata": {},
   "source": [
    "## Generating Data"
   ]
  },
  {
   "cell_type": "code",
   "execution_count": 6,
   "metadata": {},
   "outputs": [
    {
     "name": "stdout",
     "output_type": "stream",
     "text": [
      "+---+-------------------+\n",
      "| id|                  v|\n",
      "+---+-------------------+\n",
      "|  0|0.09226782623218222|\n",
      "|  0| 0.7833837108060944|\n",
      "|  0| 0.6574294855560994|\n",
      "|  0| 0.3260742926337755|\n",
      "|  0| 0.8192788736649433|\n",
      "|  0| 0.3261067946969388|\n",
      "|  0| 0.5523607516567406|\n",
      "|  0|0.18725180502702443|\n",
      "|  0|0.42453683506079276|\n",
      "|  0| 0.3681109122294811|\n",
      "|  0| 0.6560580892236526|\n",
      "|  0| 0.7436141681995322|\n",
      "|  0|0.25257677442443627|\n",
      "|  0|  0.137316703532663|\n",
      "|  0| 0.9629305213321792|\n",
      "|  0|0.49643060183334486|\n",
      "|  0| 0.8959914725705421|\n",
      "|  0|0.13724842176158636|\n",
      "|  0|0.05914896408368253|\n",
      "|  0| 0.9881057465263761|\n",
      "+---+-------------------+\n",
      "only showing top 20 rows\n",
      "\n"
     ]
    },
    {
     "data": {
      "text/plain": [
       "10000"
      ]
     },
     "execution_count": 6,
     "metadata": {},
     "output_type": "execute_result"
    }
   ],
   "source": [
    "n = 100\n",
    "\n",
    "df = spark.range(0, n**2).withColumn('id', (col('id') / n).cast('integer')).withColumn('v', rand())\n",
    "df.cache()\n",
    "df.show()\n",
    "df.count()"
   ]
  },
  {
   "cell_type": "markdown",
   "metadata": {},
   "source": [
    "## Plus One"
   ]
  },
  {
   "cell_type": "code",
   "execution_count": 9,
   "metadata": {},
   "outputs": [
    {
     "ename": "NameError",
     "evalue": "name 'plus_one' is not defined",
     "output_type": "error",
     "traceback": [
      "\u001b[0;31m---------------------------------------------------------------------------\u001b[0m",
      "\u001b[0;31mNameError\u001b[0m                                 Traceback (most recent call last)",
      "\u001b[0;32m<ipython-input-9-e8a8164dd246>\u001b[0m in \u001b[0;36m<module>\u001b[0;34m()\u001b[0m\n\u001b[1;32m      4\u001b[0m \u001b[0mDoubleType\u001b[0m\u001b[0;34m.\u001b[0m\u001b[0mtypeName\u001b[0m\u001b[0;34m(\u001b[0m\u001b[0;34m)\u001b[0m\u001b[0;34m\u001b[0m\u001b[0m\n\u001b[1;32m      5\u001b[0m \u001b[0;34m\u001b[0m\u001b[0m\n\u001b[0;32m----> 6\u001b[0;31m \u001b[0mudf_plus_one\u001b[0m \u001b[0;34m=\u001b[0m \u001b[0mudf\u001b[0m\u001b[0;34m(\u001b[0m\u001b[0mplus_one\u001b[0m\u001b[0;34m,\u001b[0m \u001b[0mDoubleType\u001b[0m\u001b[0;34m(\u001b[0m\u001b[0;34m)\u001b[0m\u001b[0;34m)\u001b[0m\u001b[0;34m\u001b[0m\u001b[0m\n\u001b[0m",
      "\u001b[0;31mNameError\u001b[0m: name 'plus_one' is not defined"
     ]
    }
   ],
   "source": [
    "from pyspark.sql.types import DoubleType\n",
    "from pyspark.sql.functions import udf, PandasUDFType\n",
    "\n",
    "DoubleType.typeName()\n",
    "\n",
    "udf_plus_one = udf(plus_one, DoubleType())"
   ]
  },
  {
   "cell_type": "code",
   "execution_count": 10,
   "metadata": {},
   "outputs": [
    {
     "name": "stdout",
     "output_type": "stream",
     "text": [
      "+--------+\n",
      "|count(v)|\n",
      "+--------+\n",
      "|   10000|\n",
      "+--------+\n",
      "\n",
      "+--------+\n",
      "|count(v)|\n",
      "+--------+\n",
      "|   10000|\n",
      "+--------+\n",
      "\n",
      "+--------+\n",
      "|count(v)|\n",
      "+--------+\n",
      "|   10000|\n",
      "+--------+\n",
      "\n",
      "+--------+\n",
      "|count(v)|\n",
      "+--------+\n",
      "|   10000|\n",
      "+--------+\n",
      "\n",
      "+--------+\n",
      "|count(v)|\n",
      "+--------+\n",
      "|   10000|\n",
      "+--------+\n",
      "\n",
      "+--------+\n",
      "|count(v)|\n",
      "+--------+\n",
      "|   10000|\n",
      "+--------+\n",
      "\n",
      "+--------+\n",
      "|count(v)|\n",
      "+--------+\n",
      "|   10000|\n",
      "+--------+\n",
      "\n",
      "+--------+\n",
      "|count(v)|\n",
      "+--------+\n",
      "|   10000|\n",
      "+--------+\n",
      "\n",
      "322 ms ± 136 ms per loop (mean ± std. dev. of 7 runs, 1 loop each)\n"
     ]
    }
   ],
   "source": [
    "from pyspark.sql.functions import udf\n",
    "\n",
    "@udf('double')\n",
    "def plus_one(v):\n",
    "    return v + 1\n",
    "\n",
    "\n",
    "%timeit df.withColumn('v', plus_one(df.v)).agg(count(col('v'))).show()"
   ]
  },
  {
   "cell_type": "code",
   "execution_count": null,
   "metadata": {},
   "outputs": [],
   "source": [
    "df.withColumn('v', plus_one(df.v)).show(5)"
   ]
  },
  {
   "cell_type": "code",
   "execution_count": null,
   "metadata": {},
   "outputs": [],
   "source": [
    "@pandas_udf(\"double\", PandasUDFType.SCALAR)\n",
    "def pandas_plus_one(v):\n",
    "    return v + 1\n",
    "\n",
    "%timeit df.withColumn('v', pandas_plus_one(df.v)).agg(count(col('v'))).show()"
   ]
  },
  {
   "cell_type": "markdown",
   "metadata": {},
   "source": [
    "## Cumulative Probability"
   ]
  },
  {
   "cell_type": "code",
   "execution_count": null,
   "metadata": {},
   "outputs": [],
   "source": [
    "import pandas as pd\n",
    "from scipy import stats\n",
    "\n",
    "@udf('double')\n",
    "def cdf(v):\n",
    "    return float(stats.norm.cdf(v))\n",
    "\n",
    "%timeit df.withColumn('cumulative_probability', cdf(df.v)).agg(count(col('cumulative_probability'))).show()"
   ]
  },
  {
   "cell_type": "code",
   "execution_count": null,
   "metadata": {},
   "outputs": [],
   "source": [
    "df.withColumn('cumulative_probability', cdf(df.v)).show(5)"
   ]
  },
  {
   "cell_type": "code",
   "execution_count": null,
   "metadata": {},
   "outputs": [],
   "source": [
    "import pandas as pd\n",
    "from scipy import stats\n",
    "\n",
    "@pandas_udf('double', PandasUDFType.SCALAR)\n",
    "def pandas_cdf(v):\n",
    "    return pd.Series(stats.norm.cdf(v))\n",
    "\n",
    "%timeit df.withColumn('cumulative_probability', pandas_cdf(df.v)).agg(count(col('cumulative_probability'))).show()"
   ]
  },
  {
   "cell_type": "markdown",
   "metadata": {},
   "source": [
    "## Operation on a Group - Subtract Mean"
   ]
  },
  {
   "cell_type": "code",
   "execution_count": null,
   "metadata": {},
   "outputs": [],
   "source": [
    "from pyspark.sql import Row\n",
    "\n",
    "@udf(ArrayType(df.schema))\n",
    "def subtract_mean(rows):\n",
    "    vs = pd.Series([r.v for r in rows])\n",
    "    vs = vs - vs.mean()\n",
    "    return [Row(id=rows[i]['id'], v=float(vs[i])) for i in range(len(rows))]\n",
    "  \n",
    "%timeit df.groupby('id').agg(collect_list(struct(df['id'], df['v'])).alias('rows')).withColumn('new_rows', subtract_mean(col('rows'))).withColumn('new_row', explode(col('new_rows'))).withColumn('id', col('new_row.id')).withColumn('v', col('new_row.v')).agg(count(col('v'))).show()"
   ]
  },
  {
   "cell_type": "code",
   "execution_count": null,
   "metadata": {},
   "outputs": [],
   "source": [
    "df.groupby('id').agg(collect_list(struct(df['id'], df['v'])).alias('rows')).withColumn('new_rows', subtract_mean(col('rows'))).withColumn('new_row', explode(col('new_rows'))).withColumn('id', col('new_row.id')).withColumn('v', col('new_row.v')).show(5)"
   ]
  },
  {
   "cell_type": "code",
   "execution_count": null,
   "metadata": {},
   "outputs": [],
   "source": [
    "df.schema"
   ]
  },
  {
   "cell_type": "code",
   "execution_count": null,
   "metadata": {},
   "outputs": [],
   "source": [
    "@pandas_udf(df.schema, PandasUDFType.GROUPED_MAP)\n",
    "# Input/output are both a pandas.DataFrame\n",
    "def pandas_subtract_mean(pdf):\n",
    "    return pdf.assign(v=pdf.v - pdf.v.mean())\n",
    "\n",
    "%timeit df.groupby('id').apply(pandas_subtract_mean).agg(count(col('v'))).show()"
   ]
  },
  {
   "cell_type": "code",
   "execution_count": null,
   "metadata": {},
   "outputs": [],
   "source": [
    "df.groupby('id').apply(pandas_subtract_mean).show(5)"
   ]
  },
  {
   "cell_type": "markdown",
   "metadata": {},
   "source": [
    "## OLS"
   ]
  },
  {
   "cell_type": "code",
   "execution_count": null,
   "metadata": {},
   "outputs": [],
   "source": [
    "df2 = df.withColumn('y', rand()).withColumn('x1', rand()).withColumn('x2', rand()).select('id', 'y', 'x1', 'x2')\n",
    "df2.show() "
   ]
  },
  {
   "cell_type": "code",
   "execution_count": null,
   "metadata": {},
   "outputs": [],
   "source": [
    "import pandas as pd\n",
    "import statsmodels.api as sm\n",
    "# df has four columns: id, y, x1, x2\n",
    "\n",
    "group_column = 'id'\n",
    "y_column = 'y'\n",
    "x_columns = ['x1', 'x2']\n",
    "schema = df2.select(group_column, *x_columns).schema\n",
    "\n",
    "@pandas_udf(schema, PandasUDFType.GROUPED_MAP)\n",
    "# Input/output are both a pandas.DataFrame\n",
    "def ols(pdf):\n",
    "    group_key = pdf[group_column].iloc[0]\n",
    "    y = pdf[y_column]\n",
    "    X = pdf[x_columns]\n",
    "    X = sm.add_constant(X)\n",
    "    model = sm.OLS(y, X).fit()\n",
    "    return pd.DataFrame([[group_key] + [model.params[i] for i in   x_columns]], columns=[group_column] + x_columns)\n",
    "\n",
    "beta = df2.groupby(group_column).apply(ols)\n",
    "beta.show()"
   ]
  },
  {
   "cell_type": "code",
   "execution_count": null,
   "metadata": {},
   "outputs": [],
   "source": [
    "from sklearn.linear_model import LinearRegression\n",
    "\n",
    "pandas_df = df2.filter('id == 31').toPandas()[['x1', 'x2', 'y']]\n",
    "model = LinearRegression()\n",
    "model.fit(X=pandas_df[['x1', 'x2']], y=pandas_df[['y']])\n",
    "model.coef_"
   ]
  },
  {
   "cell_type": "code",
   "execution_count": null,
   "metadata": {},
   "outputs": [],
   "source": [
    "pandas_df"
   ]
  },
  {
   "cell_type": "code",
   "execution_count": null,
   "metadata": {},
   "outputs": [],
   "source": []
  }
 ],
 "metadata": {
  "kernelspec": {
   "display_name": "Python 3",
   "language": "python",
   "name": "python3"
  },
  "language_info": {
   "codemirror_mode": {
    "name": "ipython",
    "version": 3
   },
   "file_extension": ".py",
   "mimetype": "text/x-python",
   "name": "python",
   "nbconvert_exporter": "python",
   "pygments_lexer": "ipython3",
   "version": "3.6.4"
  }
 },
 "nbformat": 4,
 "nbformat_minor": 2
}
