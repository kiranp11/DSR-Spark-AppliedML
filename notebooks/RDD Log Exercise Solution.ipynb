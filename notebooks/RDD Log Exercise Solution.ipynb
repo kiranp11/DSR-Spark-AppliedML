{
 "cells": [
  {
   "cell_type": "markdown",
   "metadata": {},
   "source": [
    "## [NASA logs for July 1995](http://ita.ee.lbl.gov/html/contrib/NASA-HTTP.html)"
   ]
  },
  {
   "cell_type": "code",
   "execution_count": 1,
   "metadata": {},
   "outputs": [],
   "source": [
    "from pyspark.sql import SparkSession\n",
    "\n",
    "spark = SparkSession.builder.getOrCreate()"
   ]
  },
  {
   "cell_type": "code",
   "execution_count": 2,
   "metadata": {},
   "outputs": [],
   "source": [
    "# !wget ftp://ita.ee.lbl.gov/traces/NASA_access_log_Jul95.gz\n",
    "# !gunzip NASA_access_log_Jul95.gz"
   ]
  },
  {
   "cell_type": "markdown",
   "metadata": {},
   "source": [
    "## Load logs into a RDD"
   ]
  },
  {
   "cell_type": "code",
   "execution_count": 3,
   "metadata": {},
   "outputs": [],
   "source": [
    "sc = spark.sparkContext\n",
    "nasa = sc.textFile('NASA_access_log_Jul95')"
   ]
  },
  {
   "cell_type": "markdown",
   "metadata": {},
   "source": [
    "### How many non-empty lines?"
   ]
  },
  {
   "cell_type": "code",
   "execution_count": 4,
   "metadata": {},
   "outputs": [
    {
     "data": {
      "text/plain": [
       "1891715"
      ]
     },
     "execution_count": 4,
     "metadata": {},
     "output_type": "execute_result"
    }
   ],
   "source": [
    "nasa.filter(lambda line: len(line) > 0).count()"
   ]
  },
  {
   "cell_type": "markdown",
   "metadata": {},
   "source": [
    "### Create a function to parse Apache logs and, at the same time, counts malformed lines"
   ]
  },
  {
   "cell_type": "code",
   "execution_count": 5,
   "metadata": {},
   "outputs": [],
   "source": [
    "import re\n",
    "# host unused user time method resource status size referer agent \n",
    "pattern = '^(\\S+) \\S+ (\\S+) \\[([\\w:/]+\\s[+\\-]\\d{4})\\] \"(\\S+)\\s?(\\S+)?\\s?(\\S+)?\" (\\d{3}|-) (\\d+|-)\\s?\"?([^\"]*)\"?\\s?\"?([^\"]*)?\"?$'\n",
    "weblog = re.compile(pattern=pattern)\n",
    "\n",
    "bad_line = spark.sparkContext.accumulator(0)\n",
    "\n",
    "def process_logs(line):\n",
    "    try:\n",
    "        return weblog.findall(line)[0]\n",
    "    except IndexError:\n",
    "        bad_line.add(1)\n",
    "        return ''"
   ]
  },
  {
   "cell_type": "code",
   "execution_count": 6,
   "metadata": {},
   "outputs": [
    {
     "name": "stdout",
     "output_type": "stream",
     "text": [
      "199.72.81.55 - - [01/Jul/1995:00:00:01 -0400] \"GET /history/apollo/ HTTP/1.0\" 200 6245\n"
     ]
    }
   ],
   "source": [
    "print(nasa.take(1)[0])"
   ]
  },
  {
   "cell_type": "code",
   "execution_count": 7,
   "metadata": {},
   "outputs": [
    {
     "data": {
      "text/plain": [
       "1902"
      ]
     },
     "execution_count": 7,
     "metadata": {},
     "output_type": "execute_result"
    }
   ],
   "source": [
    "nasa.map(process_logs).filter(lambda line: line == '').count()"
   ]
  },
  {
   "cell_type": "code",
   "execution_count": 8,
   "metadata": {},
   "outputs": [
    {
     "data": {
      "text/plain": [
       "1902"
      ]
     },
     "execution_count": 8,
     "metadata": {},
     "output_type": "execute_result"
    }
   ],
   "source": [
    "bad_line.value"
   ]
  },
  {
   "cell_type": "markdown",
   "metadata": {},
   "source": [
    "### Create a function to convert a tuple into a Row object"
   ]
  },
  {
   "cell_type": "code",
   "execution_count": 9,
   "metadata": {},
   "outputs": [],
   "source": [
    "import time, datetime\n",
    "\n",
    "def parse_time(str_time):\n",
    "    tt = time.strptime(str_time[:-6], \"%d/%b/%Y:%H:%M:%S\")\n",
    "    return datetime.datetime(*tt[:6])"
   ]
  },
  {
   "cell_type": "code",
   "execution_count": 10,
   "metadata": {},
   "outputs": [],
   "source": [
    "from pyspark.sql import Row\n",
    "\n",
    "no_size = spark.sparkContext.accumulator(0)\n",
    "\n",
    "def to_int(value):\n",
    "    try:\n",
    "        value = int(value)\n",
    "    except:\n",
    "        value = -1\n",
    "        no_size.add(1)\n",
    "    return value\n",
    "\n",
    "def log_to_row(line):\n",
    "    fields = process_logs(line)\n",
    "    if fields == '':\n",
    "        fields = [''] * 10\n",
    "        fields[2] = '01/Jan/1900:00:00:00 -0000'\n",
    "        fields[6] = 0\n",
    "\n",
    "    row = Row(host=fields[0], \n",
    "              user=fields[1], \n",
    "              time=parse_time(fields[2]),\n",
    "              method=fields[3], \n",
    "              resource=fields[4], \n",
    "              protocol=fields[5],\n",
    "              status=int(fields[6]),\n",
    "              size=to_int(fields[7]),\n",
    "              referer=fields[8], \n",
    "              agent=fields[9])\n",
    "    return row"
   ]
  },
  {
   "cell_type": "code",
   "execution_count": 11,
   "metadata": {},
   "outputs": [
    {
     "data": {
      "text/plain": [
       "Row(agent='', host='199.72.81.55', method='GET', protocol='HTTP/1.0', referer='', resource='/history/apollo/', size=6245, status=200, time=datetime.datetime(1995, 7, 1, 0, 0, 1), user='-')"
      ]
     },
     "execution_count": 11,
     "metadata": {},
     "output_type": "execute_result"
    }
   ],
   "source": [
    "log_to_row(nasa.take(1)[0])"
   ]
  },
  {
   "cell_type": "markdown",
   "metadata": {},
   "source": [
    "### Create a DataFrame"
   ]
  },
  {
   "cell_type": "code",
   "execution_count": 12,
   "metadata": {},
   "outputs": [],
   "source": [
    "df = spark.createDataFrame(nasa.map(log_to_row))"
   ]
  },
  {
   "cell_type": "code",
   "execution_count": 13,
   "metadata": {
    "scrolled": false
   },
   "outputs": [
    {
     "name": "stdout",
     "output_type": "stream",
     "text": [
      "+-----+--------------------+------+--------+-------+--------------------+-----+------+-------------------+----+\n",
      "|agent|                host|method|protocol|referer|            resource| size|status|               time|user|\n",
      "+-----+--------------------+------+--------+-------+--------------------+-----+------+-------------------+----+\n",
      "|     |        199.72.81.55|   GET|HTTP/1.0|       |    /history/apollo/| 6245|   200|1995-07-01 00:00:01|   -|\n",
      "|     |unicomp6.unicomp.net|   GET|HTTP/1.0|       | /shuttle/countdown/| 3985|   200|1995-07-01 00:00:06|   -|\n",
      "|     |      199.120.110.21|   GET|HTTP/1.0|       |/shuttle/missions...| 4085|   200|1995-07-01 00:00:09|   -|\n",
      "|     |  burger.letters.com|   GET|HTTP/1.0|       |/shuttle/countdow...|    0|   304|1995-07-01 00:00:11|   -|\n",
      "|     |      199.120.110.21|   GET|HTTP/1.0|       |/shuttle/missions...| 4179|   200|1995-07-01 00:00:11|   -|\n",
      "|     |  burger.letters.com|   GET|HTTP/1.0|       |/images/NASA-logo...|    0|   304|1995-07-01 00:00:12|   -|\n",
      "|     |  burger.letters.com|   GET|HTTP/1.0|       |/shuttle/countdow...|    0|   200|1995-07-01 00:00:12|   -|\n",
      "|     |     205.212.115.106|   GET|HTTP/1.0|       |/shuttle/countdow...| 3985|   200|1995-07-01 00:00:12|   -|\n",
      "|     |         d104.aa.net|   GET|HTTP/1.0|       | /shuttle/countdown/| 3985|   200|1995-07-01 00:00:13|   -|\n",
      "|     |      129.94.144.152|   GET|HTTP/1.0|       |                   /| 7074|   200|1995-07-01 00:00:13|   -|\n",
      "|     |unicomp6.unicomp.net|   GET|HTTP/1.0|       |/shuttle/countdow...|40310|   200|1995-07-01 00:00:14|   -|\n",
      "|     |unicomp6.unicomp.net|   GET|HTTP/1.0|       |/images/NASA-logo...|  786|   200|1995-07-01 00:00:14|   -|\n",
      "|     |unicomp6.unicomp.net|   GET|HTTP/1.0|       |/images/KSC-logos...| 1204|   200|1995-07-01 00:00:14|   -|\n",
      "|     |         d104.aa.net|   GET|HTTP/1.0|       |/shuttle/countdow...|40310|   200|1995-07-01 00:00:15|   -|\n",
      "|     |         d104.aa.net|   GET|HTTP/1.0|       |/images/NASA-logo...|  786|   200|1995-07-01 00:00:15|   -|\n",
      "|     |         d104.aa.net|   GET|HTTP/1.0|       |/images/KSC-logos...| 1204|   200|1995-07-01 00:00:15|   -|\n",
      "|     |      129.94.144.152|   GET|HTTP/1.0|       |/images/ksclogo-m...|    0|   304|1995-07-01 00:00:17|   -|\n",
      "|     |      199.120.110.21|   GET|HTTP/1.0|       |/images/launch-lo...| 1713|   200|1995-07-01 00:00:17|   -|\n",
      "|     |ppptky391.asahi-n...|   GET|HTTP/1.0|       |/facts/about_ksc....| 3977|   200|1995-07-01 00:00:18|   -|\n",
      "|     |  net-1-141.eden.com|   GET|HTTP/1.0|       |/shuttle/missions...|34029|   200|1995-07-01 00:00:19|   -|\n",
      "+-----+--------------------+------+--------+-------+--------------------+-----+------+-------------------+----+\n",
      "only showing top 20 rows\n",
      "\n"
     ]
    }
   ],
   "source": [
    "df.show()"
   ]
  },
  {
   "cell_type": "code",
   "execution_count": 14,
   "metadata": {},
   "outputs": [
    {
     "data": {
      "text/plain": [
       "1891715"
      ]
     },
     "execution_count": 14,
     "metadata": {},
     "output_type": "execute_result"
    }
   ],
   "source": [
    "df.count()"
   ]
  },
  {
   "cell_type": "code",
   "execution_count": 15,
   "metadata": {},
   "outputs": [
    {
     "data": {
      "text/plain": [
       "21557"
      ]
     },
     "execution_count": 15,
     "metadata": {},
     "output_type": "execute_result"
    }
   ],
   "source": [
    "no_size.value"
   ]
  },
  {
   "cell_type": "code",
   "execution_count": 16,
   "metadata": {},
   "outputs": [
    {
     "data": {
      "text/plain": [
       "21557"
      ]
     },
     "execution_count": 16,
     "metadata": {},
     "output_type": "execute_result"
    }
   ],
   "source": [
    "df.filter('size == -1').count()"
   ]
  },
  {
   "cell_type": "markdown",
   "metadata": {},
   "source": [
    "### Which hosts were responsible for the largest amount of traffic?"
   ]
  },
  {
   "cell_type": "code",
   "execution_count": 17,
   "metadata": {},
   "outputs": [
    {
     "name": "stdout",
     "output_type": "stream",
     "text": [
      "+--------------------+----------+\n",
      "|                host|total_size|\n",
      "+--------------------+----------+\n",
      "|piweba3y.prodigy.com| 433605413|\n",
      "|piweba1y.prodigy.com| 261097448|\n",
      "|piweba4y.prodigy.com| 250619786|\n",
      "|  alyssa.prodigy.com| 209657052|\n",
      "|         news.ti.com| 172264955|\n",
      "|piweba2y.prodigy.com| 159858665|\n",
      "|      163.206.137.21| 138230468|\n",
      "|   poppy.hensa.ac.uk| 123475475|\n",
      "|  e659229.boeing.com| 123248242|\n",
      "|www-d4.proxy.aol.com| 117296962|\n",
      "|www-b5.proxy.aol.com| 111133037|\n",
      "|www-a2.proxy.aol.com| 109363240|\n",
      "|www-b3.proxy.aol.com| 106341593|\n",
      "|www-b2.proxy.aol.com| 105828128|\n",
      "|    webgate1.mot.com| 105503472|\n",
      "|        163.206.89.4| 104977983|\n",
      "|       198.133.29.18| 104445299|\n",
      "|www-a1.proxy.aol.com| 102951146|\n",
      "|www-b4.proxy.aol.com| 101836146|\n",
      "|www-d3.proxy.aol.com| 100341935|\n",
      "+--------------------+----------+\n",
      "only showing top 20 rows\n",
      "\n"
     ]
    }
   ],
   "source": [
    "from pyspark.sql import functions as F\n",
    "\n",
    "df.groupby('host').agg(F.sum('size').alias('total_size')).orderBy(F.desc('total_size')).show()"
   ]
  },
  {
   "cell_type": "markdown",
   "metadata": {},
   "source": [
    "### Which resources were the most requested?"
   ]
  },
  {
   "cell_type": "code",
   "execution_count": 18,
   "metadata": {},
   "outputs": [
    {
     "data": {
      "text/html": [
       "<div>\n",
       "<style scoped>\n",
       "    .dataframe tbody tr th:only-of-type {\n",
       "        vertical-align: middle;\n",
       "    }\n",
       "\n",
       "    .dataframe tbody tr th {\n",
       "        vertical-align: top;\n",
       "    }\n",
       "\n",
       "    .dataframe thead th {\n",
       "        text-align: right;\n",
       "    }\n",
       "</style>\n",
       "<table border=\"1\" class=\"dataframe\">\n",
       "  <thead>\n",
       "    <tr style=\"text-align: right;\">\n",
       "      <th></th>\n",
       "      <th>resource</th>\n",
       "      <th>count</th>\n",
       "    </tr>\n",
       "  </thead>\n",
       "  <tbody>\n",
       "    <tr>\n",
       "      <th>0</th>\n",
       "      <td>/images/NASA-logosmall.gif</td>\n",
       "      <td>111330</td>\n",
       "    </tr>\n",
       "    <tr>\n",
       "      <th>1</th>\n",
       "      <td>/images/KSC-logosmall.gif</td>\n",
       "      <td>89638</td>\n",
       "    </tr>\n",
       "    <tr>\n",
       "      <th>2</th>\n",
       "      <td>/images/MOSAIC-logosmall.gif</td>\n",
       "      <td>60467</td>\n",
       "    </tr>\n",
       "    <tr>\n",
       "      <th>3</th>\n",
       "      <td>/images/USA-logosmall.gif</td>\n",
       "      <td>60013</td>\n",
       "    </tr>\n",
       "    <tr>\n",
       "      <th>4</th>\n",
       "      <td>/images/WORLD-logosmall.gif</td>\n",
       "      <td>59488</td>\n",
       "    </tr>\n",
       "    <tr>\n",
       "      <th>5</th>\n",
       "      <td>/images/ksclogo-medium.gif</td>\n",
       "      <td>58801</td>\n",
       "    </tr>\n",
       "    <tr>\n",
       "      <th>6</th>\n",
       "      <td>/images/launch-logo.gif</td>\n",
       "      <td>40871</td>\n",
       "    </tr>\n",
       "    <tr>\n",
       "      <th>7</th>\n",
       "      <td>/shuttle/countdown/</td>\n",
       "      <td>40276</td>\n",
       "    </tr>\n",
       "    <tr>\n",
       "      <th>8</th>\n",
       "      <td>/ksc.html</td>\n",
       "      <td>40223</td>\n",
       "    </tr>\n",
       "    <tr>\n",
       "      <th>9</th>\n",
       "      <td>/images/ksclogosmall.gif</td>\n",
       "      <td>33585</td>\n",
       "    </tr>\n",
       "    <tr>\n",
       "      <th>10</th>\n",
       "      <td>/</td>\n",
       "      <td>32838</td>\n",
       "    </tr>\n",
       "    <tr>\n",
       "      <th>11</th>\n",
       "      <td>/history/apollo/images/apollo-logo1.gif</td>\n",
       "      <td>31072</td>\n",
       "    </tr>\n",
       "    <tr>\n",
       "      <th>12</th>\n",
       "      <td>/shuttle/missions/missions.html</td>\n",
       "      <td>24864</td>\n",
       "    </tr>\n",
       "    <tr>\n",
       "      <th>13</th>\n",
       "      <td>/htbin/cdt_main.pl</td>\n",
       "      <td>22626</td>\n",
       "    </tr>\n",
       "    <tr>\n",
       "      <th>14</th>\n",
       "      <td>/shuttle/countdown/count.gif</td>\n",
       "      <td>22216</td>\n",
       "    </tr>\n",
       "    <tr>\n",
       "      <th>15</th>\n",
       "      <td>/shuttle/countdown/liftoff.html</td>\n",
       "      <td>21996</td>\n",
       "    </tr>\n",
       "    <tr>\n",
       "      <th>16</th>\n",
       "      <td>/shuttle/countdown/count70.gif</td>\n",
       "      <td>20956</td>\n",
       "    </tr>\n",
       "    <tr>\n",
       "      <th>17</th>\n",
       "      <td>/images/launchmedium.gif</td>\n",
       "      <td>20812</td>\n",
       "    </tr>\n",
       "    <tr>\n",
       "      <th>18</th>\n",
       "      <td>/shuttle/missions/sts-71/sts-71-patch-small.gif</td>\n",
       "      <td>19852</td>\n",
       "    </tr>\n",
       "    <tr>\n",
       "      <th>19</th>\n",
       "      <td>/shuttle/missions/sts-70/sts-70-patch-small.gif</td>\n",
       "      <td>18159</td>\n",
       "    </tr>\n",
       "  </tbody>\n",
       "</table>\n",
       "</div>"
      ],
      "text/plain": [
       "                                           resource   count\n",
       "0                        /images/NASA-logosmall.gif  111330\n",
       "1                         /images/KSC-logosmall.gif   89638\n",
       "2                      /images/MOSAIC-logosmall.gif   60467\n",
       "3                         /images/USA-logosmall.gif   60013\n",
       "4                       /images/WORLD-logosmall.gif   59488\n",
       "5                        /images/ksclogo-medium.gif   58801\n",
       "6                           /images/launch-logo.gif   40871\n",
       "7                               /shuttle/countdown/   40276\n",
       "8                                         /ksc.html   40223\n",
       "9                          /images/ksclogosmall.gif   33585\n",
       "10                                                /   32838\n",
       "11          /history/apollo/images/apollo-logo1.gif   31072\n",
       "12                  /shuttle/missions/missions.html   24864\n",
       "13                               /htbin/cdt_main.pl   22626\n",
       "14                     /shuttle/countdown/count.gif   22216\n",
       "15                  /shuttle/countdown/liftoff.html   21996\n",
       "16                   /shuttle/countdown/count70.gif   20956\n",
       "17                         /images/launchmedium.gif   20812\n",
       "18  /shuttle/missions/sts-71/sts-71-patch-small.gif   19852\n",
       "19  /shuttle/missions/sts-70/sts-70-patch-small.gif   18159"
      ]
     },
     "execution_count": 18,
     "metadata": {},
     "output_type": "execute_result"
    }
   ],
   "source": [
    "df.groupby('resource').agg(F.count(F.lit(1)).alias('count')).orderBy(F.desc('count')).limit(20).toPandas()"
   ]
  },
  {
   "cell_type": "code",
   "execution_count": null,
   "metadata": {},
   "outputs": [],
   "source": []
  }
 ],
 "metadata": {
  "kernelspec": {
   "display_name": "Python 3",
   "language": "python",
   "name": "python3"
  },
  "language_info": {
   "codemirror_mode": {
    "name": "ipython",
    "version": 3
   },
   "file_extension": ".py",
   "mimetype": "text/x-python",
   "name": "python",
   "nbconvert_exporter": "python",
   "pygments_lexer": "ipython3",
   "version": "3.6.4"
  }
 },
 "nbformat": 4,
 "nbformat_minor": 2
}
