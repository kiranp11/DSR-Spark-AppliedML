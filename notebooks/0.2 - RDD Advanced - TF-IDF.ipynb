{
 "cells": [
  {
   "cell_type": "code",
   "execution_count": 1,
   "metadata": {},
   "outputs": [],
   "source": [
    "import pyspark\n",
    "sc = pyspark.SparkContext('local[*]')"
   ]
  },
  {
   "cell_type": "code",
   "execution_count": 2,
   "metadata": {},
   "outputs": [],
   "source": [
    "!rm -rf metastore_db/"
   ]
  },
  {
   "cell_type": "markdown",
   "metadata": {},
   "source": [
    "It would be bit cleaner to use nltk to do the tokenization, but we don't have nltk installed in our cluster."
   ]
  },
  {
   "cell_type": "code",
   "execution_count": 3,
   "metadata": {},
   "outputs": [],
   "source": [
    "def tokenize(s):\n",
    "    import re\n",
    "    stopwords = set(['i', 'me', 'my', 'myself', 'we', 'our', 'ours', 'ourselves', 'you', 'your', 'yours', 'yourself', 'yourselves', 'he', 'him', 'his', 'himself', 'she', 'her', 'hers', 'herself', 'it', 'its', 'itself', 'they', 'them', 'their', 'theirs', 'themselves', 'what', 'which', 'who', 'whom', 'this', 'that', 'these', 'those', 'am', 'is', 'are', 'was', 'were', 'be', 'been', 'being', 'have', 'has', 'had', 'having', 'do', 'does', 'did', 'doing', 'a', 'an', 'the', 'and', 'but', 'if', 'or', 'because', 'as', 'until', 'while', 'of', 'at', 'by', 'for', 'with', 'about', 'against', 'between', 'into', 'through', 'during', 'before', 'after', 'above', 'below', 'to', 'from', 'up', 'down', 'in', 'out', 'on', 'off', 'over', 'under', 'again', 'further', 'then', 'once', 'here', 'there', 'when', 'where', 'why', 'how', 'all', 'any', 'both', 'each', 'few', 'more', 'most', 'other', 'some', 'such', 'no', 'nor', 'not', 'only', 'own', 'same', 'so', 'than', 'too', 'very', 's', 't', 'can', 'will', 'just', 'don', 'should', 'now'])\n",
    "    word_regex = '^[a-z][a-z\\'-]+[a-z]$'\n",
    "    s = s.lower()\n",
    "    arr = s.split()\n",
    "    terms = []\n",
    "    for term in arr:\n",
    "        if re.match(word_regex, term) != None and len(term) > 3 and term not in stopwords:\n",
    "            terms.append(term)\n",
    "    return terms\n"
   ]
  },
  {
   "cell_type": "code",
   "execution_count": 4,
   "metadata": {},
   "outputs": [],
   "source": [
    "test_strings = ['the quick brown fox jumps over the brown fence.',\n",
    "              'the boy paints a tall fence brown!',\n",
    "              'basketball players are tall.',\n",
    "              'quick basketball players jump high']"
   ]
  },
  {
   "cell_type": "code",
   "execution_count": 5,
   "metadata": {},
   "outputs": [],
   "source": [
    "tokens = sc.parallelize(test_strings).map(tokenize)"
   ]
  },
  {
   "cell_type": "code",
   "execution_count": 6,
   "metadata": {},
   "outputs": [
    {
     "data": {
      "text/plain": [
       "[['quick', 'brown', 'jumps', 'brown'],\n",
       " ['paints', 'tall', 'fence'],\n",
       " ['basketball', 'players'],\n",
       " ['quick', 'basketball', 'players', 'jump', 'high']]"
      ]
     },
     "execution_count": 6,
     "metadata": {},
     "output_type": "execute_result"
    }
   ],
   "source": [
    "tokens.collect()"
   ]
  },
  {
   "cell_type": "code",
   "execution_count": 7,
   "metadata": {},
   "outputs": [
    {
     "data": {
      "text/plain": [
       "['quick',\n",
       " 'fence',\n",
       " 'players',\n",
       " 'jump',\n",
       " 'basketball',\n",
       " 'high',\n",
       " 'brown',\n",
       " 'jumps',\n",
       " 'paints',\n",
       " 'tall']"
      ]
     },
     "execution_count": 7,
     "metadata": {},
     "output_type": "execute_result"
    }
   ],
   "source": [
    "vocab = tokens.flatMap(lambda words: words).distinct()\n",
    "vocab.collect()"
   ]
  },
  {
   "cell_type": "code",
   "execution_count": 8,
   "metadata": {},
   "outputs": [],
   "source": [
    "from collections import Counter\n",
    "import numpy as np\n",
    "\n",
    "#sc.broadcast shares an immutable object throughout the cluster\n",
    "broadcastVocab = sc.broadcast(vocab.collect())\n",
    "\n",
    "def bow_vectorize(tokens):\n",
    "    word_counts = Counter(tokens)\n",
    "    vector = [word_counts[v] if v in word_counts else 0 for v in broadcastVocab.value]\n",
    "    return np.array(vector)"
   ]
  },
  {
   "cell_type": "code",
   "execution_count": 9,
   "metadata": {},
   "outputs": [
    {
     "data": {
      "text/plain": [
       "[array([1, 0, 0, 0, 0, 0, 2, 1, 0, 0]),\n",
       " array([0, 1, 0, 0, 0, 0, 0, 0, 1, 1]),\n",
       " array([0, 0, 1, 0, 1, 0, 0, 0, 0, 0]),\n",
       " array([1, 0, 1, 1, 1, 1, 0, 0, 0, 0])]"
      ]
     },
     "execution_count": 9,
     "metadata": {},
     "output_type": "execute_result"
    }
   ],
   "source": [
    "tokens.map(bow_vectorize).collect()"
   ]
  },
  {
   "cell_type": "code",
   "execution_count": 10,
   "metadata": {},
   "outputs": [
    {
     "data": {
      "text/plain": [
       "['quick',\n",
       " 'fence',\n",
       " 'players',\n",
       " 'jump',\n",
       " 'basketball',\n",
       " 'high',\n",
       " 'brown',\n",
       " 'jumps',\n",
       " 'paints',\n",
       " 'tall']"
      ]
     },
     "execution_count": 10,
     "metadata": {},
     "output_type": "execute_result"
    }
   ],
   "source": [
    "broadcastVocab.value"
   ]
  },
  {
   "cell_type": "code",
   "execution_count": 11,
   "metadata": {},
   "outputs": [],
   "source": [
    "term_freq = tokens.map(lambda terms: Counter(terms))"
   ]
  },
  {
   "cell_type": "code",
   "execution_count": 12,
   "metadata": {},
   "outputs": [
    {
     "data": {
      "text/plain": [
       "[('quick', 2),\n",
       " ('fence', 1),\n",
       " ('players', 2),\n",
       " ('jump', 1),\n",
       " ('basketball', 2),\n",
       " ('high', 1),\n",
       " ('brown', 1),\n",
       " ('jumps', 1),\n",
       " ('paints', 1),\n",
       " ('tall', 1)]"
      ]
     },
     "execution_count": 12,
     "metadata": {},
     "output_type": "execute_result"
    }
   ],
   "source": [
    "doc_freq = term_freq.flatMap(lambda counts: counts.keys()).map(lambda keys: (keys, 1)).reduceByKey(lambda a, b: a + b)\n",
    "doc_freq.collect()"
   ]
  },
  {
   "cell_type": "code",
   "execution_count": 13,
   "metadata": {},
   "outputs": [
    {
     "data": {
      "text/plain": [
       "4"
      ]
     },
     "execution_count": 13,
     "metadata": {},
     "output_type": "execute_result"
    }
   ],
   "source": [
    "total_docs = term_freq.count()\n",
    "total_docs"
   ]
  },
  {
   "cell_type": "code",
   "execution_count": 14,
   "metadata": {},
   "outputs": [
    {
     "data": {
      "text/plain": [
       "[('quick', 0.28768207245178085),\n",
       " ('fence', 0.6931471805599453),\n",
       " ('players', 0.28768207245178085),\n",
       " ('jump', 0.6931471805599453),\n",
       " ('basketball', 0.28768207245178085),\n",
       " ('high', 0.6931471805599453),\n",
       " ('brown', 0.6931471805599453),\n",
       " ('jumps', 0.6931471805599453),\n",
       " ('paints', 0.6931471805599453),\n",
       " ('tall', 0.6931471805599453)]"
      ]
     },
     "execution_count": 14,
     "metadata": {},
     "output_type": "execute_result"
    }
   ],
   "source": [
    "import math\n",
    "\n",
    "idf = doc_freq.map(lambda tup: (tup[0], math.log(float(total_docs)/ (1 + tup[1])))).collect()\n",
    "idf"
   ]
  },
  {
   "cell_type": "code",
   "execution_count": 15,
   "metadata": {},
   "outputs": [],
   "source": [
    "broadcast_idf = sc.broadcast(idf)"
   ]
  },
  {
   "cell_type": "code",
   "execution_count": 16,
   "metadata": {},
   "outputs": [],
   "source": [
    "def tfidf_vectorize(tokens):\n",
    "    word_counts = Counter(tokens)\n",
    "    doc_length = sum(word_counts.values())\n",
    "    \n",
    "    vector = [ word_counts.get(word[0], 0) * word[1] / float(doc_length) for word in broadcast_idf.value ]\n",
    "    return np.array(vector)"
   ]
  },
  {
   "cell_type": "code",
   "execution_count": 17,
   "metadata": {},
   "outputs": [
    {
     "data": {
      "text/plain": [
       "[array([ 0.07192052,  0.        ,  0.        ,  0.        ,  0.        ,\n",
       "         0.        ,  0.34657359,  0.1732868 ,  0.        ,  0.        ]),\n",
       " array([ 0.        ,  0.23104906,  0.        ,  0.        ,  0.        ,\n",
       "         0.        ,  0.        ,  0.        ,  0.23104906,  0.23104906]),\n",
       " array([ 0.        ,  0.        ,  0.14384104,  0.        ,  0.14384104,\n",
       "         0.        ,  0.        ,  0.        ,  0.        ,  0.        ]),\n",
       " array([ 0.05753641,  0.        ,  0.05753641,  0.13862944,  0.05753641,\n",
       "         0.13862944,  0.        ,  0.        ,  0.        ,  0.        ])]"
      ]
     },
     "execution_count": 17,
     "metadata": {},
     "output_type": "execute_result"
    }
   ],
   "source": [
    "tfidf = tokens.map(tfidf_vectorize)\n",
    "tfidf.collect()"
   ]
  },
  {
   "cell_type": "code",
   "execution_count": 18,
   "metadata": {},
   "outputs": [
    {
     "data": {
      "text/plain": [
       "[array([1, 0, 0, 0, 0, 0, 2, 1, 0, 0]),\n",
       " array([0, 1, 0, 0, 0, 0, 0, 0, 1, 1]),\n",
       " array([0, 0, 1, 0, 1, 0, 0, 0, 0, 0]),\n",
       " array([1, 0, 1, 1, 1, 1, 0, 0, 0, 0])]"
      ]
     },
     "execution_count": 18,
     "metadata": {},
     "output_type": "execute_result"
    }
   ],
   "source": [
    "bow = tokens.map(bow_vectorize).cache()\n",
    "bow.collect()"
   ]
  },
  {
   "cell_type": "code",
   "execution_count": 19,
   "metadata": {},
   "outputs": [],
   "source": [
    "from pyspark.mllib.clustering import KMeans, KMeansModel\n",
    "from math import sqrt"
   ]
  },
  {
   "cell_type": "code",
   "execution_count": 20,
   "metadata": {},
   "outputs": [],
   "source": [
    "clusters = KMeans.train(tfidf, 2, maxIterations=10, initializationMode=\"random\")"
   ]
  },
  {
   "cell_type": "code",
   "execution_count": 21,
   "metadata": {},
   "outputs": [],
   "source": [
    "def error(point):\n",
    "    center = clusters.centers[clusters.predict(point)]\n",
    "    return sqrt(sum([x**2 for x in (point - center)]))"
   ]
  },
  {
   "cell_type": "code",
   "execution_count": 22,
   "metadata": {},
   "outputs": [
    {
     "name": "stdout",
     "output_type": "stream",
     "text": [
      "Within Set Sum of Squared Error = 0.667330168411981\n"
     ]
    }
   ],
   "source": [
    "WSSSE = tfidf.map(lambda point: error(point)).reduce(lambda x, y: x + y)\n",
    "print(\"Within Set Sum of Squared Error = \" + str(WSSSE))"
   ]
  },
  {
   "cell_type": "code",
   "execution_count": 23,
   "metadata": {},
   "outputs": [
    {
     "data": {
      "text/plain": [
       "[array([ 0.0191788 ,  0.07701635,  0.06712582,  0.04620981,  0.06712582,\n",
       "         0.04620981,  0.        ,  0.        ,  0.07701635,  0.07701635]),\n",
       " array([ 0.07192052,  0.        ,  0.        ,  0.        ,  0.        ,\n",
       "         0.        ,  0.34657359,  0.1732868 ,  0.        ,  0.        ])]"
      ]
     },
     "execution_count": 23,
     "metadata": {},
     "output_type": "execute_result"
    }
   ],
   "source": [
    "clusters.centers"
   ]
  },
  {
   "cell_type": "code",
   "execution_count": 24,
   "metadata": {},
   "outputs": [
    {
     "name": "stdout",
     "output_type": "stream",
     "text": [
      "['tall', 'paints', 'fence']\n",
      "['brown', 'jumps', 'quick']\n"
     ]
    }
   ],
   "source": [
    "top_n = 3\n",
    "print([idf[idx][0] for idx in [np.argsort(x)[::-1][:top_n] for x in clusters.centers][0]])\n",
    "print([idf[idx][0] for idx in [np.argsort(x)[::-1][:top_n] for x in clusters.centers][1]])"
   ]
  },
  {
   "cell_type": "code",
   "execution_count": 25,
   "metadata": {},
   "outputs": [],
   "source": [
    "sc.stop()"
   ]
  },
  {
   "cell_type": "code",
   "execution_count": null,
   "metadata": {},
   "outputs": [],
   "source": []
  }
 ],
 "metadata": {
  "anaconda-cloud": {},
  "kernelspec": {
   "display_name": "Python 3",
   "language": "python",
   "name": "python3"
  },
  "language_info": {
   "codemirror_mode": {
    "name": "ipython",
    "version": 3
   },
   "file_extension": ".py",
   "mimetype": "text/x-python",
   "name": "python",
   "nbconvert_exporter": "python",
   "pygments_lexer": "ipython3",
   "version": "3.6.4"
  }
 },
 "nbformat": 4,
 "nbformat_minor": 1
}
