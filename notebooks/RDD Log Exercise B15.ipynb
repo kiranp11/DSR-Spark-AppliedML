{
 "cells": [
  {
   "cell_type": "markdown",
   "metadata": {},
   "source": [
    "## [NASA logs for July 1995](http://ita.ee.lbl.gov/html/contrib/NASA-HTTP.html)"
   ]
  },
  {
   "cell_type": "code",
   "execution_count": 1,
   "metadata": {},
   "outputs": [],
   "source": [
    "from pyspark.sql import SparkSession\n",
    "\n",
    "spark = SparkSession.builder.getOrCreate()"
   ]
  },
  {
   "cell_type": "code",
   "execution_count": null,
   "metadata": {},
   "outputs": [],
   "source": [
    "#!wget ftp://ita.ee.lbl.gov/traces/NASA_access_log_Jul95.gz\n",
    "#!gunzip NASA_access_log_Jul95.gz"
   ]
  },
  {
   "cell_type": "markdown",
   "metadata": {},
   "source": [
    "## Load logs into a RDD"
   ]
  },
  {
   "cell_type": "code",
   "execution_count": 3,
   "metadata": {},
   "outputs": [],
   "source": [
    "sc = spark.sparkContext\n",
    "\n",
    "nasa = sc.textFile(\"NASA_access_log_Jul95\", 4)"
   ]
  },
  {
   "cell_type": "markdown",
   "metadata": {},
   "source": [
    "### How many non-empty lines?"
   ]
  },
  {
   "cell_type": "code",
   "execution_count": 4,
   "metadata": {},
   "outputs": [
    {
     "data": {
      "text/plain": [
       "pyspark.rdd.RDD"
      ]
     },
     "execution_count": 4,
     "metadata": {},
     "output_type": "execute_result"
    }
   ],
   "source": [
    "type(nasa)"
   ]
  },
  {
   "cell_type": "code",
   "execution_count": 10,
   "metadata": {},
   "outputs": [
    {
     "data": {
      "text/plain": [
       "1891715"
      ]
     },
     "execution_count": 10,
     "metadata": {},
     "output_type": "execute_result"
    }
   ],
   "source": [
    "nasa.count()"
   ]
  },
  {
   "cell_type": "code",
   "execution_count": 40,
   "metadata": {},
   "outputs": [
    {
     "data": {
      "text/plain": [
       "['199.72.81.55 - - [01/Jul/1995:00:00:01 -0400] \"GET /history/apollo/ HTTP/1.0\" 200 6245',\n",
       " 'unicomp6.unicomp.net - - [01/Jul/1995:00:00:06 -0400] \"GET /shuttle/countdown/ HTTP/1.0\" 200 3985',\n",
       " '199.120.110.21 - - [01/Jul/1995:00:00:09 -0400] \"GET /shuttle/missions/sts-73/mission-sts-73.html HTTP/1.0\" 200 4085',\n",
       " 'burger.letters.com - - [01/Jul/1995:00:00:11 -0400] \"GET /shuttle/countdown/liftoff.html HTTP/1.0\" 304 0',\n",
       " '199.120.110.21 - - [01/Jul/1995:00:00:11 -0400] \"GET /shuttle/missions/sts-73/sts-73-patch-small.gif HTTP/1.0\" 200 4179']"
      ]
     },
     "execution_count": 40,
     "metadata": {},
     "output_type": "execute_result"
    }
   ],
   "source": [
    "nasa.take(5)"
   ]
  },
  {
   "cell_type": "code",
   "execution_count": 11,
   "metadata": {},
   "outputs": [
    {
     "data": {
      "text/plain": [
       "1891715"
      ]
     },
     "execution_count": 11,
     "metadata": {},
     "output_type": "execute_result"
    }
   ],
   "source": [
    "nasa.filter(lambda line: len(line) > 0).count()"
   ]
  },
  {
   "cell_type": "markdown",
   "metadata": {},
   "source": [
    "### Create a function to parse Apache logs and, at the same time, counts malformed lines"
   ]
  },
  {
   "cell_type": "code",
   "execution_count": 37,
   "metadata": {},
   "outputs": [
    {
     "name": "stdout",
     "output_type": "stream",
     "text": [
      "1902\n"
     ]
    }
   ],
   "source": [
    "import re\n",
    "# host unused user time method resource status size referer agent \n",
    "pattern = '^(\\S+) \\S+ (\\S+) \\[([\\w:/]+\\s[+\\-]\\d{4})\\] \"(\\S+)\\s?(\\S+)?\\s?(\\S+)?\" (\\d{3}|-) (\\d+|-)\\s?\"?([^\"]*)\"?\\s?\"?([^\"]*)?\"?$'\n",
    "weblog = re.compile(pattern=pattern)\n",
    "\n",
    "malformedCount = sc.accumulator(0)\n",
    "\n",
    "# TIP: you can use Accumulator to count lines\n",
    "# Make sure you return an empty string ('') \n",
    "# whenever you find a malformed line\n",
    "\n",
    "def process_logs(line):\n",
    "    try:\n",
    "        return weblog.findall(line)[0]\n",
    "    except IndexError:\n",
    "        malformedCount.add(1)\n",
    "        return ''\n",
    "    \n",
    "nasa.foreach(process_logs)\n",
    "print(malformedCount)"
   ]
  },
  {
   "cell_type": "code",
   "execution_count": 25,
   "metadata": {},
   "outputs": [
    {
     "name": "stdout",
     "output_type": "stream",
     "text": [
      "199.72.81.55 - - [01/Jul/1995:00:00:01 -0400] \"GET /history/apollo/ HTTP/1.0\" 200 6245\n"
     ]
    }
   ],
   "source": [
    "# Taking one row\n",
    "print(nasa.take(1)[0])"
   ]
  },
  {
   "cell_type": "code",
   "execution_count": 33,
   "metadata": {},
   "outputs": [
    {
     "data": {
      "text/plain": [
       "1902"
      ]
     },
     "execution_count": 33,
     "metadata": {},
     "output_type": "execute_result"
    }
   ],
   "source": [
    "# Applies parsing function and \n",
    "parsed_nasa = nasa.map(process_logs)\n",
    "# Check how many empty lines you got\n",
    "parsed_nasa.filter(lambda line: line == '').count()"
   ]
  },
  {
   "cell_type": "code",
   "execution_count": null,
   "metadata": {},
   "outputs": [],
   "source": [
    "# Check the accumulator value\n",
    "# Both values should match"
   ]
  },
  {
   "cell_type": "markdown",
   "metadata": {},
   "source": [
    "### Create a function to convert a tuple into a Row object"
   ]
  },
  {
   "cell_type": "code",
   "execution_count": 39,
   "metadata": {},
   "outputs": [],
   "source": [
    "import time, datetime\n",
    "\n",
    "def parse_time(str_time):\n",
    "    tt = time.strptime(str_time[:-6], \"%d/%b/%Y:%H:%M:%S\")\n",
    "    return datetime.datetime(*tt[:6])"
   ]
  },
  {
   "cell_type": "code",
   "execution_count": 43,
   "metadata": {},
   "outputs": [],
   "source": [
    "from pyspark.sql import Row\n",
    "\n",
    "# The size of the response in the logs may be '-' sometimes\n",
    "# Create a function that converts the size to an integer value\n",
    "# and returns -1 for invalid sizes, while also keeping track\n",
    "# of how many times it happened in the NO_SIZE variable\n",
    "# (hint: Accumulator)\n",
    "\n",
    "no_size = sc.accumulator(0)\n",
    "\n",
    "def to_int(value):\n",
    "    try:\n",
    "        value = int(value)\n",
    "    except:\n",
    "        value = -1\n",
    "        no_size.add(1)\n",
    "    return value\n",
    "\n",
    "# Leveraging on the previous function, that converts a line\n",
    "# from the logs into a tuple using RegEx, populate a Row object\n",
    "# to make it ready to turn into a DataFrame\n",
    "\n",
    "def log_to_row(line):\n",
    "    fields = process_logs(line)\n",
    "    if fields == '':\n",
    "        fields = [''] * 10\n",
    "        fields[2] = '01/Jan/1900:00:00:00 -0000'\n",
    "        fields[6] = 0\n",
    "\n",
    "    # INSERT CODE HERE\n",
    "    # Create a row object with all the fields\n",
    "    # host, user, time, method, resource, protocol, status, size, referer, agent\n",
    "    row = Row(\n",
    "        host=fields[0], \n",
    "              user=fields[1], \n",
    "              time=parse_time(fields[2]),\n",
    "              method=fields[3], \n",
    "              resource=fields[4], \n",
    "              protocol=fields[5],\n",
    "              status=int(fields[6]),\n",
    "              size=to_int(fields[7]),\n",
    "              referer=fields[8], \n",
    "              agent=fields[9]\n",
    "    )\n",
    "    \n",
    "    return row"
   ]
  },
  {
   "cell_type": "code",
   "execution_count": 44,
   "metadata": {},
   "outputs": [
    {
     "data": {
      "text/plain": [
       "Row(agent='', host='199.72.81.55', method='GET', protocol='HTTP/1.0', referer='', resource='/history/apollo/', size=6245, status=200, time=datetime.datetime(1995, 7, 1, 0, 0, 1), user='-')"
      ]
     },
     "execution_count": 44,
     "metadata": {},
     "output_type": "execute_result"
    }
   ],
   "source": [
    "log_to_row(nasa.take(1)[0])"
   ]
  },
  {
   "cell_type": "markdown",
   "metadata": {},
   "source": [
    "### Create a DataFrame"
   ]
  },
  {
   "cell_type": "code",
   "execution_count": 49,
   "metadata": {},
   "outputs": [],
   "source": [
    "# Use the original RDD (nasa), apply your function to it\n",
    "# and create a DataFrame\n",
    "df = spark.createDataFrame(nasa.map(log_to_row))"
   ]
  },
  {
   "cell_type": "code",
   "execution_count": 51,
   "metadata": {
    "scrolled": false
   },
   "outputs": [
    {
     "data": {
      "text/html": [
       "<div>\n",
       "<style scoped>\n",
       "    .dataframe tbody tr th:only-of-type {\n",
       "        vertical-align: middle;\n",
       "    }\n",
       "\n",
       "    .dataframe tbody tr th {\n",
       "        vertical-align: top;\n",
       "    }\n",
       "\n",
       "    .dataframe thead th {\n",
       "        text-align: right;\n",
       "    }\n",
       "</style>\n",
       "<table border=\"1\" class=\"dataframe\">\n",
       "  <thead>\n",
       "    <tr style=\"text-align: right;\">\n",
       "      <th></th>\n",
       "      <th>agent</th>\n",
       "      <th>host</th>\n",
       "      <th>method</th>\n",
       "      <th>protocol</th>\n",
       "      <th>referer</th>\n",
       "      <th>resource</th>\n",
       "      <th>size</th>\n",
       "      <th>status</th>\n",
       "      <th>time</th>\n",
       "      <th>user</th>\n",
       "    </tr>\n",
       "  </thead>\n",
       "  <tbody>\n",
       "    <tr>\n",
       "      <th>0</th>\n",
       "      <td></td>\n",
       "      <td>199.72.81.55</td>\n",
       "      <td>GET</td>\n",
       "      <td>HTTP/1.0</td>\n",
       "      <td></td>\n",
       "      <td>/history/apollo/</td>\n",
       "      <td>6245</td>\n",
       "      <td>200</td>\n",
       "      <td>1995-07-01 00:00:01</td>\n",
       "      <td>-</td>\n",
       "    </tr>\n",
       "    <tr>\n",
       "      <th>1</th>\n",
       "      <td></td>\n",
       "      <td>unicomp6.unicomp.net</td>\n",
       "      <td>GET</td>\n",
       "      <td>HTTP/1.0</td>\n",
       "      <td></td>\n",
       "      <td>/shuttle/countdown/</td>\n",
       "      <td>3985</td>\n",
       "      <td>200</td>\n",
       "      <td>1995-07-01 00:00:06</td>\n",
       "      <td>-</td>\n",
       "    </tr>\n",
       "    <tr>\n",
       "      <th>2</th>\n",
       "      <td></td>\n",
       "      <td>199.120.110.21</td>\n",
       "      <td>GET</td>\n",
       "      <td>HTTP/1.0</td>\n",
       "      <td></td>\n",
       "      <td>/shuttle/missions/sts-73/mission-sts-73.html</td>\n",
       "      <td>4085</td>\n",
       "      <td>200</td>\n",
       "      <td>1995-07-01 00:00:09</td>\n",
       "      <td>-</td>\n",
       "    </tr>\n",
       "    <tr>\n",
       "      <th>3</th>\n",
       "      <td></td>\n",
       "      <td>burger.letters.com</td>\n",
       "      <td>GET</td>\n",
       "      <td>HTTP/1.0</td>\n",
       "      <td></td>\n",
       "      <td>/shuttle/countdown/liftoff.html</td>\n",
       "      <td>0</td>\n",
       "      <td>304</td>\n",
       "      <td>1995-07-01 00:00:11</td>\n",
       "      <td>-</td>\n",
       "    </tr>\n",
       "  </tbody>\n",
       "</table>\n",
       "</div>"
      ],
      "text/plain": [
       "  agent                  host method  protocol referer  \\\n",
       "0                199.72.81.55    GET  HTTP/1.0           \n",
       "1        unicomp6.unicomp.net    GET  HTTP/1.0           \n",
       "2              199.120.110.21    GET  HTTP/1.0           \n",
       "3          burger.letters.com    GET  HTTP/1.0           \n",
       "\n",
       "                                       resource  size  status  \\\n",
       "0                              /history/apollo/  6245     200   \n",
       "1                           /shuttle/countdown/  3985     200   \n",
       "2  /shuttle/missions/sts-73/mission-sts-73.html  4085     200   \n",
       "3               /shuttle/countdown/liftoff.html     0     304   \n",
       "\n",
       "                 time user  \n",
       "0 1995-07-01 00:00:01    -  \n",
       "1 1995-07-01 00:00:06    -  \n",
       "2 1995-07-01 00:00:09    -  \n",
       "3 1995-07-01 00:00:11    -  "
      ]
     },
     "execution_count": 51,
     "metadata": {},
     "output_type": "execute_result"
    }
   ],
   "source": [
    "df.limit(4).toPandas()"
   ]
  },
  {
   "cell_type": "code",
   "execution_count": null,
   "metadata": {},
   "outputs": [],
   "source": [
    "df.count()"
   ]
  },
  {
   "cell_type": "code",
   "execution_count": 52,
   "metadata": {},
   "outputs": [
    {
     "data": {
      "text/plain": [
       "21557"
      ]
     },
     "execution_count": 52,
     "metadata": {},
     "output_type": "execute_result"
    }
   ],
   "source": [
    "# How many lines without size?\n",
    "no_size.value"
   ]
  },
  {
   "cell_type": "code",
   "execution_count": 53,
   "metadata": {},
   "outputs": [
    {
     "data": {
      "text/plain": [
       "21557"
      ]
     },
     "execution_count": 53,
     "metadata": {},
     "output_type": "execute_result"
    }
   ],
   "source": [
    "# How many lines without size?\n",
    "# Both values should match\n",
    "df.filter('size == -1').count()"
   ]
  },
  {
   "cell_type": "markdown",
   "metadata": {},
   "source": [
    "### Which hosts were responsible for the largest amount of traffic?"
   ]
  },
  {
   "cell_type": "code",
   "execution_count": 56,
   "metadata": {},
   "outputs": [
    {
     "name": "stdout",
     "output_type": "stream",
     "text": [
      "+--------------------+---------+\n",
      "|                host|sum(size)|\n",
      "+--------------------+---------+\n",
      "|piweba3y.prodigy.com|433605413|\n",
      "|piweba1y.prodigy.com|261097448|\n",
      "|piweba4y.prodigy.com|250619786|\n",
      "|  alyssa.prodigy.com|209657052|\n",
      "|         news.ti.com|172264955|\n",
      "|piweba2y.prodigy.com|159858665|\n",
      "|      163.206.137.21|138230468|\n",
      "|   poppy.hensa.ac.uk|123475475|\n",
      "|  e659229.boeing.com|123248242|\n",
      "|www-d4.proxy.aol.com|117296962|\n",
      "|www-b5.proxy.aol.com|111133037|\n",
      "|www-a2.proxy.aol.com|109363240|\n",
      "|www-b3.proxy.aol.com|106341593|\n",
      "|www-b2.proxy.aol.com|105828128|\n",
      "|    webgate1.mot.com|105503472|\n",
      "|        163.206.89.4|104977983|\n",
      "|       198.133.29.18|104445299|\n",
      "|www-a1.proxy.aol.com|102951146|\n",
      "|www-b4.proxy.aol.com|101836146|\n",
      "|www-d3.proxy.aol.com|100341935|\n",
      "+--------------------+---------+\n",
      "only showing top 20 rows\n",
      "\n"
     ]
    }
   ],
   "source": [
    "from pyspark.sql import functions as F\n",
    "\n",
    "df.groupBy('host').agg({\"size\":\"SUM\"}).orderBy(\"sum(size)\", ascending=False).show()"
   ]
  },
  {
   "cell_type": "markdown",
   "metadata": {},
   "source": [
    "### Which resources were the most requested?"
   ]
  },
  {
   "cell_type": "code",
   "execution_count": 63,
   "metadata": {},
   "outputs": [
    {
     "name": "stdout",
     "output_type": "stream",
     "text": [
      "+--------------------+--------+\n",
      "|            resource|count(1)|\n",
      "+--------------------+--------+\n",
      "|/images/NASA-logo...|  111330|\n",
      "|/images/KSC-logos...|   89638|\n",
      "|/images/MOSAIC-lo...|   60467|\n",
      "|/images/USA-logos...|   60013|\n",
      "|/images/WORLD-log...|   59488|\n",
      "|/images/ksclogo-m...|   58801|\n",
      "|/images/launch-lo...|   40871|\n",
      "| /shuttle/countdown/|   40276|\n",
      "|           /ksc.html|   40223|\n",
      "|/images/ksclogosm...|   33585|\n",
      "|                   /|   32838|\n",
      "|/history/apollo/i...|   31072|\n",
      "|/shuttle/missions...|   24864|\n",
      "|  /htbin/cdt_main.pl|   22626|\n",
      "|/shuttle/countdow...|   22216|\n",
      "|/shuttle/countdow...|   21996|\n",
      "|/shuttle/countdow...|   20956|\n",
      "|/images/launchmed...|   20812|\n",
      "|/shuttle/missions...|   19852|\n",
      "|/shuttle/missions...|   18159|\n",
      "+--------------------+--------+\n",
      "only showing top 20 rows\n",
      "\n"
     ]
    }
   ],
   "source": [
    "df.groupBy('resource').agg({'*': 'count'}).orderBy('count(1)',ascending=False).show()"
   ]
  },
  {
   "cell_type": "code",
   "execution_count": 67,
   "metadata": {},
   "outputs": [
    {
     "data": {
      "text/plain": [
       "[Row(agent='', host='199.72.81.55', method='GET', protocol='HTTP/1.0', referer='', resource='/history/apollo/', size=6245, status=200, time=datetime.datetime(1995, 7, 1, 0, 0, 1), user='-'),\n",
       " Row(agent='', host='unicomp6.unicomp.net', method='GET', protocol='HTTP/1.0', referer='', resource='/shuttle/countdown/', size=3985, status=200, time=datetime.datetime(1995, 7, 1, 0, 0, 6), user='-'),\n",
       " Row(agent='', host='199.120.110.21', method='GET', protocol='HTTP/1.0', referer='', resource='/shuttle/missions/sts-73/mission-sts-73.html', size=4085, status=200, time=datetime.datetime(1995, 7, 1, 0, 0, 9), user='-'),\n",
       " Row(agent='', host='burger.letters.com', method='GET', protocol='HTTP/1.0', referer='', resource='/shuttle/countdown/liftoff.html', size=0, status=304, time=datetime.datetime(1995, 7, 1, 0, 0, 11), user='-'),\n",
       " Row(agent='', host='199.120.110.21', method='GET', protocol='HTTP/1.0', referer='', resource='/shuttle/missions/sts-73/sts-73-patch-small.gif', size=4179, status=200, time=datetime.datetime(1995, 7, 1, 0, 0, 11), user='-')]"
      ]
     },
     "execution_count": 67,
     "metadata": {},
     "output_type": "execute_result"
    }
   ],
   "source": [
    "df.rdd.take(5)"
   ]
  },
  {
   "cell_type": "code",
   "execution_count": 68,
   "metadata": {},
   "outputs": [],
   "source": [
    "sc.stop()"
   ]
  }
 ],
 "metadata": {
  "kernelspec": {
   "display_name": "Python 3",
   "language": "python",
   "name": "python3"
  },
  "language_info": {
   "codemirror_mode": {
    "name": "ipython",
    "version": 3
   },
   "file_extension": ".py",
   "mimetype": "text/x-python",
   "name": "python",
   "nbconvert_exporter": "python",
   "pygments_lexer": "ipython3",
   "version": "3.6.4"
  }
 },
 "nbformat": 4,
 "nbformat_minor": 2
}
